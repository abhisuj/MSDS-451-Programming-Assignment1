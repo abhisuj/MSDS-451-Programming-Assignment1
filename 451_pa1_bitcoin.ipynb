{
  "cells": [
    {
      "cell_type": "markdown",
      "metadata": {
        "id": "view-in-github",
        "colab_type": "text"
      },
      "source": [
        "<a href=\"https://colab.research.google.com/github/abhisuj/MSDS-451-Programming-Assignment1/blob/main/451_pa1_bitcoin.ipynb\" target=\"_parent\"><img src=\"https://colab.research.google.com/assets/colab-badge.svg\" alt=\"Open In Colab\"/></a>"
      ]
    },
    {
      "cell_type": "markdown",
      "metadata": {
        "id": "if7Gx_qCWwTl"
      },
      "source": [
        "<h2><font color='#306998'><center>451 Financial Engineering: Programming Assignment 1</center></font></h2>\n",
        "<h3><center>Abhijit Joshi, Oct 5, 2025</center></h3>\n",
        "<h3><center>Original code - Thomas W. Miller, June 18, 2025</center></h3>\n",
        "---"
      ]
    },
    {
      "cell_type": "markdown",
      "metadata": {
        "id": "8e15b77b"
      },
      "source": [
        "## Overview\n",
        "We use machine learning classifiers, including tree-based ensemble boosting methods, to predict the direction of Bitcoin (BTC-USD) spot prices (up or down) using a number of lagged price features. In particular, we look at daily closing spot prices for Bitcoin (ticker BTC-USD) with lags of one to seven days, as well as features based on opening, closing, high, and low price points, and daily trading volume.\n",
        "\n",
        "A model for predicting the direction of daily returns sets the stage for testing the predictive utility of additional features. The domain of potential features or leading indicators is wide, including those associated with other price series, economic indicators, international events, securities filings, analyst and news reports, and media measures.\n",
        "\n",
        "In this notebook, we implemented and evaluated a trading strategy based on the predicted direction of Bitcoin spot prices. The strategy involves buying when the model predicts an upward movement and selling a portion of the holdings when it predicts a downward movement. We compared the performance of this strategy to a simple buy and hold approach."
      ]
    },
    {
      "cell_type": "markdown",
      "metadata": {
        "id": "HzR-GyoJWwTp",
        "tags": []
      },
      "source": [
        "### Import Libraries\n",
        "We draw on Python packages for data manipulation and modeling. Most important are Polars, a high-performance alternative to Pandas for data manipulation, and Scikit-Learn for machine learning study design and modeling algorithms."
      ]
    },
    {
      "cell_type": "code",
      "execution_count": 1,
      "metadata": {
        "id": "mL6cXf3mWwTq",
        "scrolled": true
      },
      "outputs": [],
      "source": [
        "import os\n",
        "# Ignore warnings\n",
        "import warnings\n",
        "warnings.filterwarnings('ignore')\n",
        "warnings.simplefilter(action='ignore', category=FutureWarning)\n",
        "\n",
        "# Import Python Packages for data manipulation, data pipelines, and databases\n",
        "import numpy as np\n",
        "import pyarrow # foundation for polars\n",
        "import polars as pl # DataFrame work superior to Pandas\n",
        "\n",
        "# Plotting\n",
        "import matplotlib.pyplot as plt\n",
        "# Display static plots directly in the notebook output\n",
        "%matplotlib inline\n",
        "# create stylized visualizations, including heat maps\n",
        "import seaborn as sns\n",
        "\n",
        "# Preprocessing\n",
        "from sklearn.preprocessing import MinMaxScaler, StandardScaler\n",
        "from sklearn.pipeline import Pipeline\n",
        "from sklearn.model_selection import (RandomizedSearchCV,\n",
        "                                    TimeSeriesSplit)\n",
        "from sklearn.model_selection import cross_validate\n",
        "\n",
        "# utilized in all possible subsets classification work\n",
        "from sklearn.linear_model import LogisticRegression\n",
        "from sklearn.metrics import log_loss\n",
        "\n",
        "# needed for randomized search\n",
        "from sklearn.model_selection import RandomizedSearchCV\n",
        "from scipy.stats import randint, uniform\n",
        "\n",
        "# metrics in xgboost tuning and final model evaluation\n",
        "from sklearn.metrics import (accuracy_score,\n",
        "                             classification_report,\n",
        "                             roc_curve,\n",
        "                             roc_auc_score,\n",
        "                             RocCurveDisplay,\n",
        "                             ConfusionMatrixDisplay,\n",
        "                             confusion_matrix,\n",
        "                             precision_score,\n",
        "                             recall_score,\n",
        "                             f1_score\n",
        "                            )\n",
        "\n",
        "# XGBoost Package... more complete than SciKit-Learn boosting methods\n",
        "import xgboost as xgb\n",
        "from xgboost import XGBRegressor, XGBClassifier, plot_importance\n",
        "\n",
        "import yfinance as yf\n",
        "\n",
        "import warnings\n",
        "# Suppress warnings for cleaner output\n",
        "warnings.filterwarnings('ignore')"
      ]
    },
    {
      "cell_type": "code",
      "execution_count": 5,
      "metadata": {
        "colab": {
          "base_uri": "https://localhost:8080/"
        },
        "id": "42939272",
        "outputId": "26b7bb20-52a7-4c1e-84bb-2d21695bdf8b"
      },
      "outputs": [
        {
          "output_type": "stream",
          "name": "stdout",
          "text": [
            "                                    Open           High            Low  \\\n",
            "Date                                                                     \n",
            "2014-09-17 00:00:00+00:00     465.864014     468.174011     452.421997   \n",
            "2014-09-18 00:00:00+00:00     456.859985     456.859985     413.104004   \n",
            "2014-09-19 00:00:00+00:00     424.102997     427.834991     384.532013   \n",
            "2014-09-20 00:00:00+00:00     394.673004     423.295990     389.882996   \n",
            "2014-09-21 00:00:00+00:00     408.084991     412.425995     393.181000   \n",
            "...                                  ...            ...            ...   \n",
            "2025-10-07 00:00:00+00:00  124752.140625  125184.023438  120681.968750   \n",
            "2025-10-08 00:00:00+00:00  121448.351562  124167.093750  121119.179688   \n",
            "2025-10-09 00:00:00+00:00  123337.070312  123739.343750  119812.031250   \n",
            "2025-10-10 00:00:00+00:00  121704.742188  122509.664062  104582.414062   \n",
            "2025-10-11 00:00:00+00:00  113236.429688  113429.726562  109760.562500   \n",
            "\n",
            "                                   Close        Volume  Dividends  \\\n",
            "Date                                                                \n",
            "2014-09-17 00:00:00+00:00     457.334015      21056800        0.0   \n",
            "2014-09-18 00:00:00+00:00     424.440002      34483200        0.0   \n",
            "2014-09-19 00:00:00+00:00     394.795990      37919700        0.0   \n",
            "2014-09-20 00:00:00+00:00     408.903992      36863600        0.0   \n",
            "2014-09-21 00:00:00+00:00     398.821014      26580100        0.0   \n",
            "...                                  ...           ...        ...   \n",
            "2025-10-07 00:00:00+00:00  121451.382812   76149412513        0.0   \n",
            "2025-10-08 00:00:00+00:00  123354.867188   65354305286        0.0   \n",
            "2025-10-09 00:00:00+00:00  121705.585938   74653009425        0.0   \n",
            "2025-10-10 00:00:00+00:00  113214.367188  153125018868        0.0   \n",
            "2025-10-11 00:00:00+00:00  110807.882812  110236934340        0.0   \n",
            "\n",
            "                           Stock Splits  \n",
            "Date                                     \n",
            "2014-09-17 00:00:00+00:00           0.0  \n",
            "2014-09-18 00:00:00+00:00           0.0  \n",
            "2014-09-19 00:00:00+00:00           0.0  \n",
            "2014-09-20 00:00:00+00:00           0.0  \n",
            "2014-09-21 00:00:00+00:00           0.0  \n",
            "...                                 ...  \n",
            "2025-10-07 00:00:00+00:00           0.0  \n",
            "2025-10-08 00:00:00+00:00           0.0  \n",
            "2025-10-09 00:00:00+00:00           0.0  \n",
            "2025-10-10 00:00:00+00:00           0.0  \n",
            "2025-10-11 00:00:00+00:00           0.0  \n",
            "\n",
            "[4043 rows x 7 columns]\n",
            "type of historical_data <class 'pandas.core.frame.DataFrame'>\n"
          ]
        }
      ],
      "source": [
        "# download bitcoin futures data from yfinance\n",
        "# Bitcoin started trading in September 2014. We will download data until the latest trading day\n",
        "symbol = 'BTC-USD'\n",
        "start_date = '2014-09-01'\n",
        "end_date = '2025-10-12'\n",
        "\n",
        "ticker = yf.Ticker(symbol)\n",
        "historical_data = ticker.history(start = start_date, end = end_date)\n",
        "print(historical_data)\n",
        "\n",
        "print(\"type of historical_data\", type(historical_data))\n",
        "\n",
        "historical_data.to_csv(\"btc_historical_data.csv\")"
      ]
    },
    {
      "cell_type": "markdown",
      "metadata": {
        "id": "Qhv1hV52WwTv"
      },
      "source": [
        "### Polars DataFrame Development\n",
        "The following code cell demonstrates Polars use with the time series DataFrame for our selected market/ticker, BTC."
      ]
    },
    {
      "cell_type": "code",
      "execution_count": 6,
      "metadata": {
        "colab": {
          "base_uri": "https://localhost:8080/"
        },
        "id": "cf27bcea",
        "outputId": "284d5c5f-e0b2-4510-a9fe-83d295853a29"
      },
      "outputs": [
        {
          "output_type": "stream",
          "name": "stdout",
          "text": [
            "Schema({'Date': Datetime(time_unit='us', time_zone='UTC'), 'Open': Float64, 'High': Float64, 'Low': Float64, 'Close': Float64, 'Volume': Int64, 'Dividends': Float64, 'Stock Splits': Float64})\n",
            "Schema({'Date': Datetime(time_unit='us', time_zone='UTC'), 'Open': Float64, 'High': Float64, 'Low': Float64, 'Close': Float64, 'Volume': Float64, 'CloseLag1': Float64, 'CloseLag2': Float64, 'CloseLag3': Float64, 'HML': Float64, 'HMLLag1': Float64, 'HMLLag2': Float64, 'HMLLag3': Float64, 'OMC': Float64, 'OMCLag1': Float64, 'OMCLag2': Float64, 'OMCLag3': Float64, 'VolumeLag1': Float64, 'VolumeLag2': Float64, 'VolumeLag3': Float64, 'CloseEMA2': Float64, 'CloseEMA4': Float64, 'CloseEMA8': Float64, 'LogReturn': Float64, 'Target': Int32})\n"
          ]
        }
      ],
      "source": [
        "btc = pl.read_csv(\"btc_historical_data.csv\", try_parse_dates=True)\n",
        "\n",
        "# check the original schema\n",
        "print(btc.schema)\n",
        "\n",
        "# drop useless columns Dividends and StockSplits\n",
        "btc = btc.drop(['Dividends', 'Stock Splits'])\n",
        "\n",
        "# create lag price features\n",
        "btc = btc.with_columns((pl.col('Close')).shift().alias('CloseLag1'))\n",
        "btc = btc.with_columns((pl.col('CloseLag1')).shift().alias('CloseLag2'))\n",
        "btc = btc.with_columns((pl.col('CloseLag2')).shift().alias('CloseLag3'))\n",
        "\n",
        "# create high-minus-low (HML) for day and its lags\n",
        "btc = btc.with_columns((pl.col('High') - pl.col('Low')).alias('HML'))\n",
        "btc = btc.with_columns((pl.col('HML')).shift().alias('HMLLag1'))\n",
        "btc = btc.with_columns((pl.col('HMLLag1')).shift().alias('HMLLag2'))\n",
        "btc = btc.with_columns((pl.col('HMLLag2')).shift().alias('HMLLag3'))\n",
        "\n",
        "# create a net change for the day as the open minus closing price OMC\n",
        "# also create the corresponding lag metrics\n",
        "btc = btc.with_columns((pl.col('Open') - pl.col('Close')).alias('OMC'))\n",
        "btc = btc.with_columns((pl.col('OMC')).shift().alias('OMCLag1'))\n",
        "btc = btc.with_columns((pl.col('OMCLag1')).shift().alias('OMCLag2'))\n",
        "btc = btc.with_columns((pl.col('OMCLag2')).shift().alias('OMCLag3'))\n",
        "\n",
        "# create volume lag metrics\n",
        "btc = btc.with_columns((pl.col('Volume')).shift().alias('VolumeLag1'))\n",
        "btc = btc.with_columns((pl.col('VolumeLag1')).shift().alias('VolumeLag2'))\n",
        "btc = btc.with_columns((pl.col('VolumeLag2')).shift().alias('VolumeLag3'))\n",
        "\n",
        "# compute 10-day exponential moving averages of closing prices\n",
        "# compute around CloseLag1 to avoid any \"leakage\" in explanatory variable set\n",
        "# note also the 10-day buffer between train and test in time-series cross-validation\n",
        "btc = btc.with_columns((pl.col('CloseLag1').ewm_mean(half_life=1,ignore_nulls=True)).alias('CloseEMA2'))\n",
        "btc = btc.with_columns((pl.col('CloseLag1').ewm_mean(half_life=2,ignore_nulls=True)).alias('CloseEMA4'))\n",
        "btc = btc.with_columns((pl.col('CloseLag1').ewm_mean(half_life=4,ignore_nulls=True)).alias('CloseEMA8'))\n",
        "\n",
        "# log daily returns\n",
        "btc = btc.with_columns(np.log(pl.col('Close')/pl.col('CloseLag1')).alias('LogReturn'))\n",
        "\n",
        "\"\"\"\n",
        "# Calculate RSI (Relative Strength Index) for CloseLag1, CloseLag2, and CloseLag3\n",
        "for lag in range(1, 4):\n",
        "    close_lag_col = f'CloseLag{lag}'\n",
        "    delta_col = f'delta_{lag}'\n",
        "    gain_col = f'gain_{lag}'\n",
        "    loss_col = f'loss_{lag}'\n",
        "    rs_col = f'rs_{lag}'\n",
        "    rsi_col = f\"RSI_CloseLag{lag}\"\n",
        "\n",
        "    btc = btc.with_columns([\n",
        "        pl.col(close_lag_col).diff(1).alias(delta_col)\n",
        "    ]).with_columns([\n",
        "        pl.when(pl.col(delta_col) > 0).then(pl.col(delta_col)).otherwise(0).alias(gain_col),\n",
        "        pl.when(pl.col(delta_col) < 0).then(-pl.col(delta_col)).otherwise(0).alias(loss_col)\n",
        "    ]).with_columns([\n",
        "         pl.col(gain_col).ewm_mean(span=14, adjust=False).alias(gain_col),\n",
        "         pl.col(loss_col).ewm_mean(span=14, adjust=False).alias(loss_col)\n",
        "    ]).with_columns([\n",
        "        (pl.col(gain_col) / pl.col(loss_col)).alias(rs_col)\n",
        "    ]).with_columns([\n",
        "        (100 - (100 / (1 + pl.col(rs_col)))).alias(rsi_col)\n",
        "    ])\n",
        "    # Drop the intermediate columns if desired\n",
        "    btc = btc.drop([delta_col, gain_col, loss_col, rs_col])\n",
        "\"\"\"\n",
        "\n",
        "# set volume features to Float64 for subsequent use in Numpy arrays\n",
        "btc = btc.with_columns(\n",
        "    pl.col('Volume').cast(pl.Float64).round(0),\n",
        "    pl.col('VolumeLag1').cast(pl.Float64).round(0),\n",
        "    pl.col('VolumeLag2').cast(pl.Float64).round(0),\n",
        "    pl.col('VolumeLag3').cast(pl.Float64).round(0),\n",
        "    )\n",
        "\n",
        "# round other features to three decimal places for reporting and subsequent analytics\n",
        "btc = btc.with_columns(\n",
        "    pl.col('Open').round(3),\n",
        "    pl.col('High').round(3),\n",
        "    pl.col('Low').round(3),\n",
        "    pl.col('Close').round(3),\n",
        "    pl.col('CloseLag1').round(3),\n",
        "    pl.col('CloseLag2').round(3),\n",
        "    pl.col('CloseLag3').round(3),\n",
        "    pl.col('HML').round(3),\n",
        "    pl.col('HMLLag1').round(3),\n",
        "    pl.col('HMLLag2').round(3),\n",
        "    pl.col('HMLLag3').round(3),\n",
        "    pl.col('OMC').round(3),\n",
        "    pl.col('OMCLag1').round(3),\n",
        "    pl.col('OMCLag2').round(3),\n",
        "    pl.col('OMCLag3').round(3),\n",
        "    pl.col('CloseEMA2').round(3),\n",
        "    pl.col('CloseEMA4').round(3),\n",
        "    pl.col('CloseEMA8').round(3),\n",
        "  #  pl.col('RSI_CloseLag1').round(3),\n",
        "  #  pl.col('RSI_CloseLag2').round(3),\n",
        "  #  pl.col('RSI_CloseLag3').round(3)\n",
        "    )\n",
        "\n",
        "# define binary target/response 1 = market price up since previous day, 0 = even or down\n",
        "btc = btc.with_columns(pl.when(pl.col('LogReturn')>0.0).then(pl.lit(1)).otherwise(pl.lit(0)).alias('Target'))\n",
        "\n",
        "print(btc.schema)\n",
        "\n",
        "# save to external comma-delimited text file for checking calculations in Excel\n",
        "btc.write_csv(\"btc-with-computed-features.csv\")"
      ]
    },
    {
      "cell_type": "markdown",
      "metadata": {
        "id": "duRy2x91f0H9"
      },
      "source": [
        "### Descriptive Statistics for Price Features"
      ]
    },
    {
      "cell_type": "code",
      "execution_count": 7,
      "metadata": {
        "colab": {
          "base_uri": "https://localhost:8080/"
        },
        "id": "e3c88f0f",
        "outputId": "f7dad25f-205e-4588-f026-b17410f733ae"
      },
      "outputs": [
        {
          "output_type": "stream",
          "name": "stdout",
          "text": [
            "['statistic', 'Open', 'High', 'Low', 'Close', 'Volume', 'CloseLag1', 'CloseLag2', 'CloseLag3', 'HML', 'HMLLag1', 'HMLLag2', 'HMLLag3', 'OMC', 'OMCLag1', 'OMCLag2', 'OMCLag3', 'VolumeLag1', 'VolumeLag2', 'VolumeLag3', 'CloseEMA2', 'CloseEMA4', 'CloseEMA8', 'LogReturn', 'Target']\n",
            "Schema({'column': String, 'column_0': String, 'column_2': String, 'column_3': String, 'column_4': String, 'column_6': String, 'column_8': String})\n",
            "┌────────────┬──────────┬───────────────────────┬─────────────────────┬──────────────────────┬───────────────────────┬─────────────────────┐\n",
            "│ column     ┆ column_0 ┆ column_2              ┆ column_3            ┆ column_4             ┆ column_6              ┆ column_8            │\n",
            "╞════════════╪══════════╪═══════════════════════╪═════════════════════╪══════════════════════╪═══════════════════════╪═════════════════════╡\n",
            "│ statistic  ┆ count    ┆ mean                  ┆ std                 ┆ min                  ┆ 50%                   ┆ max                 │\n",
            "│ Open       ┆ 4040.0   ┆ 25434.79167896039     ┆ 30296.331958158396  ┆ 176.897              ┆ 10358.723             ┆ 124752.141          │\n",
            "│ High       ┆ 4040.0   ┆ 25954.129747772276    ┆ 30822.51654779172   ┆ 211.731              ┆ 10598.94              ┆ 126198.07           │\n",
            "│ Low        ┆ 4040.0   ┆ 24890.39704529703     ┆ 29745.30335402916   ┆ 171.51               ┆ 10132.187             ┆ 123196.047          │\n",
            "│ Close      ┆ 4040.0   ┆ 25461.03065891089     ┆ 30322.610603779456  ┆ 178.103              ┆ 10366.7               ┆ 124752.531          │\n",
            "│ Volume     ┆ 4040.0   ┆ 20856411852.24505     ┆ 22145342453.35684   ┆ 5914570.0            ┆ 16659999744.0         ┆ 350967941479.0      │\n",
            "│ CloseLag1  ┆ 4040.0   ┆ 25433.70068688119     ┆ 30295.41369961763   ┆ 178.103              ┆ 10363.139             ┆ 124752.531          │\n",
            "│ CloseLag2  ┆ 4040.0   ┆ 25405.782388118812    ┆ 30266.456794003447  ┆ 178.103              ┆ 10360.547             ┆ 124752.531          │\n",
            "│ CloseLag3  ┆ 4040.0   ┆ 25375.770444554455    ┆ 30231.036748651764  ┆ 178.103              ┆ 10358.049             ┆ 124752.531          │\n",
            "│ HML        ┆ 4040.0   ┆ 1063.7327047029703    ┆ 1491.6995784351059  ┆ 1.028                ┆ 419.93                ┆ 17927.25            │\n",
            "│ HMLLag1    ┆ 4040.0   ┆ 1062.8352143564357    ┆ 1491.222300930125   ┆ 1.028                ┆ 419.432               ┆ 17927.25            │\n",
            "│ HMLLag2    ┆ 4040.0   ┆ 1058.408606930693     ┆ 1467.5032896151838  ┆ 1.028                ┆ 419.122               ┆ 12864.621           │\n",
            "│ HMLLag3    ┆ 4040.0   ┆ 1057.4403987623762    ┆ 1466.9002493590563  ┆ 1.028                ┆ 418.67                ┆ 12864.621           │\n",
            "│ OMC        ┆ 4040.0   ┆ -26.23897722772277    ┆ 1075.65444198538    ┆ -8230.07             ┆ -1.576                ┆ 8490.375            │\n",
            "│ OMCLag1    ┆ 4040.0   ┆ -26.832848514851538   ┆ 1074.9609028326543  ┆ -8230.07             ┆ -1.576                ┆ 8490.375            │\n",
            "│ OMCLag2    ┆ 4040.0   ┆ -28.92640173267328    ┆ 1066.5724711443368  ┆ -8230.07             ┆ -1.576                ┆ 8182.75             │\n",
            "│ OMCLag3    ┆ 4040.0   ┆ -29.328123019802      ┆ 1066.252520125748   ┆ -8230.07             ┆ -1.576                ┆ 8182.75             │\n",
            "│ VolumeLag1 ┆ 4040.0   ┆ 20829134868.423267    ┆ 22103050009.881065  ┆ 5914570.0            ┆ 16655416140.0         ┆ 350967941479.0      │\n",
            "│ VolumeLag2 ┆ 4040.0   ┆ 20791241171.475742    ┆ 22007206625.223347  ┆ 5914570.0            ┆ 16644534842.0         ┆ 350967941479.0      │\n",
            "│ VolumeLag3 ┆ 4040.0   ┆ 20772767915.875496    ┆ 21993302195.457073  ┆ 5914570.0            ┆ 16631520648.0         ┆ 350967941479.0      │\n",
            "│ CloseEMA2  ┆ 4040.0   ┆ 25404.656312623763    ┆ 30250.983564717048  ┆ 204.533              ┆ 10397.402             ┆ 123596.526          │\n",
            "│ CloseEMA4  ┆ 4040.0   ┆ 25362.57179158416     ┆ 30188.850029494562  ┆ 213.531              ┆ 10379.086             ┆ 122177.074          │\n",
            "│ CloseEMA8  ┆ 4040.0   ┆ 25278.255621039603    ┆ 30066.36844135496   ┆ 224.11               ┆ 10343.385             ┆ 120380.333          │\n",
            "│ LogReturn  ┆ 4040.0   ┆ 0.0013953425853565217 ┆ 0.03561087461550223 ┆ -0.46473017533977296 ┆ 0.0012821509021542581 ┆ 0.22511895434132784 │\n",
            "│ Target     ┆ 4040.0   ┆ 0.5274752475247525    ┆ 0.49930633921717754 ┆ 0.0                  ┆ 1.0                   ┆ 1.0                 │\n",
            "└────────────┴──────────┴───────────────────────┴─────────────────────┴──────────────────────┴───────────────────────┴─────────────────────┘\n"
          ]
        }
      ],
      "source": [
        "# Drop the rows with null values such as the initial lag rows\n",
        "btc = btc.drop_nulls()\n",
        "\n",
        "if 'RSI_CloseLag3' in btc.columns:\n",
        "  btc = btc.filter(~pl.col(\"RSI_CloseLag3\").is_nan())\n",
        "\n",
        "# Descriptive statistics\n",
        "btcStatistics = btc.drop('Date').describe()\n",
        "\n",
        "print(btcStatistics.columns)\n",
        "\n",
        "btcStatisticsToPrint = btcStatistics.transpose(include_header=True).drop(['column_1', 'column_5', 'column_7'])\n",
        "\n",
        "print(btcStatisticsToPrint.schema)\n",
        "\n",
        "with pl.Config(\n",
        "    tbl_rows = 60,\n",
        "    tbl_width_chars = 200,\n",
        "    tbl_cols = -1,\n",
        "    float_precision = 3,\n",
        "    tbl_hide_dataframe_shape = True,\n",
        "    tbl_hide_column_data_types = True):\n",
        "    print(btcStatisticsToPrint)"
      ]
    },
    {
      "cell_type": "markdown",
      "metadata": {
        "id": "2P0ItWIwWwTw"
      },
      "source": [
        "### Feature List\n",
        "Features or explanatory variables, also known as an independent variables, are used to predict the values of target variables. The initial list of featrues includes the price-based features defined above, everything except the continuous response **LogReturn** if we wanted to employ regression and the binary response **Target** for classification, which is the focus of this project. This complete feature list is used in evaluating all methods."
      ]
    },
    {
      "cell_type": "code",
      "execution_count": 9,
      "metadata": {
        "colab": {
          "base_uri": "https://localhost:8080/",
          "height": 275
        },
        "id": "C9Q8BVHUWwTx",
        "outputId": "b0c91e68-f1a5-4366-8525-a2db876bd625"
      },
      "outputs": [
        {
          "output_type": "execute_result",
          "data": {
            "text/plain": [
              "shape: (5, 15)\n",
              "┌───────────┬───────────┬───────────┬─────────┬───┬────────────┬───────────┬───────────┬───────────┐\n",
              "│ CloseLag1 ┆ CloseLag2 ┆ CloseLag3 ┆ HMLLag1 ┆ … ┆ VolumeLag3 ┆ CloseEMA2 ┆ CloseEMA4 ┆ CloseEMA8 │\n",
              "│ ---       ┆ ---       ┆ ---       ┆ ---     ┆   ┆ ---        ┆ ---       ┆ ---       ┆ ---       │\n",
              "│ f64       ┆ f64       ┆ f64       ┆ f64     ┆   ┆ f64        ┆ f64       ┆ f64       ┆ f64       │\n",
              "╞═══════════╪═══════════╪═══════════╪═════════╪═══╪════════════╪═══════════╪═══════════╪═══════════╡\n",
              "│ 394.796   ┆ 424.44    ┆ 457.334   ┆ 43.303  ┆ … ┆ 2.10568e7  ┆ 412.2     ┆ 418.461   ┆ 421.934   │\n",
              "│ 408.904   ┆ 394.796   ┆ 424.44    ┆ 33.413  ┆ … ┆ 3.44832e7  ┆ 410.442   ┆ 414.729   ┆ 417.788   │\n",
              "│ 398.821   ┆ 408.904   ┆ 394.796   ┆ 19.245  ┆ … ┆ 3.79197e7  ┆ 404.444   ┆ 409.069   ┆ 412.581   │\n",
              "│ 402.152   ┆ 398.821   ┆ 408.904   ┆ 9.786   ┆ … ┆ 3.68636e7  ┆ 403.28    ┆ 406.754   ┆ 410.014   │\n",
              "│ 435.791   ┆ 402.152   ┆ 398.821   ┆ 45.36   ┆ … ┆ 2.65801e7  ┆ 419.663   ┆ 416.083   ┆ 415.851   │\n",
              "└───────────┴───────────┴───────────┴─────────┴───┴────────────┴───────────┴───────────┴───────────┘"
            ],
            "text/html": [
              "<div><style>\n",
              ".dataframe > thead > tr,\n",
              ".dataframe > tbody > tr {\n",
              "  text-align: right;\n",
              "  white-space: pre-wrap;\n",
              "}\n",
              "</style>\n",
              "<small>shape: (5, 15)</small><table border=\"1\" class=\"dataframe\"><thead><tr><th>CloseLag1</th><th>CloseLag2</th><th>CloseLag3</th><th>HMLLag1</th><th>HMLLag2</th><th>HMLLag3</th><th>OMCLag1</th><th>OMCLag2</th><th>OMCLag3</th><th>VolumeLag1</th><th>VolumeLag2</th><th>VolumeLag3</th><th>CloseEMA2</th><th>CloseEMA4</th><th>CloseEMA8</th></tr><tr><td>f64</td><td>f64</td><td>f64</td><td>f64</td><td>f64</td><td>f64</td><td>f64</td><td>f64</td><td>f64</td><td>f64</td><td>f64</td><td>f64</td><td>f64</td><td>f64</td><td>f64</td></tr></thead><tbody><tr><td>394.796</td><td>424.44</td><td>457.334</td><td>43.303</td><td>43.756</td><td>15.752</td><td>29.307</td><td>32.42</td><td>8.53</td><td>3.79197e7</td><td>3.44832e7</td><td>2.10568e7</td><td>412.2</td><td>418.461</td><td>421.934</td></tr><tr><td>408.904</td><td>394.796</td><td>424.44</td><td>33.413</td><td>43.303</td><td>43.756</td><td>-14.231</td><td>29.307</td><td>32.42</td><td>3.68636e7</td><td>3.79197e7</td><td>3.44832e7</td><td>410.442</td><td>414.729</td><td>417.788</td></tr><tr><td>398.821</td><td>408.904</td><td>394.796</td><td>19.245</td><td>33.413</td><td>43.303</td><td>9.264</td><td>-14.231</td><td>29.307</td><td>2.65801e7</td><td>3.68636e7</td><td>3.79197e7</td><td>404.444</td><td>409.069</td><td>412.581</td></tr><tr><td>402.152</td><td>398.821</td><td>408.904</td><td>9.786</td><td>19.245</td><td>33.413</td><td>-3.052</td><td>9.264</td><td>-14.231</td><td>2.41276e7</td><td>2.65801e7</td><td>3.68636e7</td><td>403.28</td><td>406.754</td><td>410.014</td></tr><tr><td>435.791</td><td>402.152</td><td>398.821</td><td>45.36</td><td>9.786</td><td>19.245</td><td>-33.699</td><td>-3.052</td><td>9.264</td><td>4.50995e7</td><td>2.41276e7</td><td>2.65801e7</td><td>419.663</td><td>416.083</td><td>415.851</td></tr></tbody></table></div>"
            ]
          },
          "metadata": {},
          "execution_count": 9
        }
      ],
      "source": [
        "# Select Features for the Model, exclude current day price variables ... no \"leakage\"\n",
        "# note for moving averages, we have excluded the current day, and provide a 10-day gap\n",
        "# so these may be included in the set\n",
        "X = btc.drop(['Date', 'LogReturn', 'Target', 'Open', 'High', 'Low', 'Close', 'Volume', 'HML', 'OMC'])\n",
        "X.head()"
      ]
    },
    {
      "cell_type": "markdown",
      "metadata": {
        "id": "BJ_YZOASWwTx"
      },
      "source": [
        "### Examine the Distribution of LogReturn Values"
      ]
    },
    {
      "cell_type": "code",
      "execution_count": 10,
      "metadata": {
        "colab": {
          "base_uri": "https://localhost:8080/"
        },
        "id": "PyfP-99aWwTx",
        "outputId": "8394c03b-0a65-4dde-8b02-7780431181f6"
      },
      "outputs": [
        {
          "output_type": "stream",
          "name": "stdout",
          "text": [
            "shape: (9, 2)\n",
            "┌────────────┬───────────┐\n",
            "│ statistic  ┆ value     │\n",
            "│ ---        ┆ ---       │\n",
            "│ str        ┆ f64       │\n",
            "╞════════════╪═══════════╡\n",
            "│ count      ┆ 4040.0    │\n",
            "│ null_count ┆ 0.0       │\n",
            "│ mean       ┆ 0.001395  │\n",
            "│ std        ┆ 0.035611  │\n",
            "│ min        ┆ -0.46473  │\n",
            "│ 25%        ┆ -0.012404 │\n",
            "│ 50%        ┆ 0.001282  │\n",
            "│ 75%        ┆ 0.016094  │\n",
            "│ max        ┆ 0.225119  │\n",
            "└────────────┴───────────┘\n"
          ]
        }
      ],
      "source": [
        "# Define and examine the target for regression model development\n",
        "print(btc['LogReturn'].describe())\n",
        "\n",
        "y = np.array(btc['LogReturn'])"
      ]
    },
    {
      "cell_type": "markdown",
      "metadata": {
        "id": "iuLNNWxvWwTx"
      },
      "source": [
        "### Standardize All Features\n",
        "Standardization is carried out for the complete set of features."
      ]
    },
    {
      "cell_type": "code",
      "execution_count": 11,
      "metadata": {
        "colab": {
          "base_uri": "https://localhost:8080/"
        },
        "id": "mKjHtUi_WwTx",
        "outputId": "6376ef33-430c-489b-ccdd-078b59446fef"
      },
      "outputs": [
        {
          "output_type": "stream",
          "name": "stdout",
          "text": [
            "Feature names correspond to Numpy array columns: ['CloseLag1', 'CloseLag2', 'CloseLag3', 'HMLLag1', 'HMLLag2', 'HMLLag3', 'OMCLag1', 'OMCLag2', 'OMCLag3', 'VolumeLag1', 'VolumeLag2', 'VolumeLag3', 'CloseEMA2', 'CloseEMA4', 'CloseEMA8']\n"
          ]
        }
      ],
      "source": [
        "# Standardize features\n",
        "featureNames = X.columns\n",
        "print(\"Feature names correspond to Numpy array columns:\",featureNames)\n",
        "scaler = StandardScaler()\n",
        "X = scaler.fit_transform(np.array(X))"
      ]
    },
    {
      "cell_type": "code",
      "execution_count": 14,
      "metadata": {
        "colab": {
          "base_uri": "https://localhost:8080/"
        },
        "id": "C9Q8BVHUwTz",
        "outputId": "7989c1e7-4f71-4975-f3c4-bac622f8c934"
      },
      "outputs": [
        {
          "output_type": "stream",
          "name": "stdout",
          "text": [
            "Feature names corresponding to standardized Numpy array columns: ['CloseLag1', 'CloseLag2', 'CloseLag3', 'HMLLag1', 'HMLLag2', 'HMLLag3', 'OMCLag1', 'OMCLag2', 'OMCLag3', 'VolumeLag1', 'VolumeLag2', 'VolumeLag3', 'CloseEMA2', 'CloseEMA4', 'CloseEMA8']\n",
            "Shape of standardized features: (4040, 15)\n"
          ]
        }
      ],
      "source": [
        "# Select Features for the Model, exclude current day price variables ... no \"leakage\"\n",
        "# note for moving averages, we have excluded the current day, and provide a 10-day gap\n",
        "# so these may be included in the set\n",
        "X = btc.drop(['Date', 'LogReturn', 'Target', 'Open', 'High', 'Low', 'Close', 'Volume', 'HML', 'OMC'])\n",
        "# Convert to numpy array before standardization\n",
        "X_np = np.array(X)\n",
        "featureNames = X.columns # Keep track of feature names before standardization\n",
        "\n",
        "# Standardize features\n",
        "scaler = StandardScaler()\n",
        "X_scaled = scaler.fit_transform(X_np)\n",
        "\n",
        "print(\"Feature names corresponding to standardized Numpy array columns:\", featureNames)\n",
        "print(\"Shape of standardized features:\", X_scaled.shape)"
      ]
    },
    {
      "cell_type": "markdown",
      "metadata": {
        "id": "wbtPk1rGWwTy"
      },
      "source": [
        "### Target Definition for Classification (Target)\n",
        "\n",
        "Identify the binary target variable for model development."
      ]
    },
    {
      "cell_type": "code",
      "execution_count": 12,
      "metadata": {
        "colab": {
          "base_uri": "https://localhost:8080/"
        },
        "id": "WQhUBdmyWwTy",
        "outputId": "ba52438d-98e6-4b33-e758-7bb0fdc273cf"
      },
      "outputs": [
        {
          "output_type": "stream",
          "name": "stdout",
          "text": [
            "shape: (2, 2)\n",
            "┌────────┬───────┐\n",
            "│ Target ┆ count │\n",
            "│ ---    ┆ ---   │\n",
            "│ i32    ┆ u32   │\n",
            "╞════════╪═══════╡\n",
            "│ 0      ┆ 1909  │\n",
            "│ 1      ┆ 2131  │\n",
            "└────────┴───────┘\n"
          ]
        }
      ],
      "source": [
        "# Define and examine the target for classification model development\n",
        "print(btc['Target'].value_counts())\n",
        "\n",
        "y = np.array(btc['Target'])"
      ]
    },
    {
      "cell_type": "markdown",
      "metadata": {
        "id": "taoNgZZtWwTy"
      },
      "source": [
        "### Feature Selection Using All Possible Classifications\n",
        "We draw on traditional applied statistis, selecting the best combination of features using the Akaike Information Criterion (AIC)."
      ]
    },
    {
      "cell_type": "code",
      "execution_count": 16,
      "metadata": {
        "id": "EGK36AcHWwTy"
      },
      "outputs": [],
      "source": [
        "# Polars DataFrame for storing results from all possible subsets\n",
        "resultsSchema = {\"trialNumber\": pl.Int64, \"features\": pl.String, 'aic': pl.Float64}\n",
        "resultsDataFrame = pl.DataFrame(schema = resultsSchema)\n",
        "\n",
        "def getAIC(X_data, y_data):\n",
        "    model = LogisticRegression()\n",
        "    model.fit(X_data, y_data)\n",
        "    # Calculate log-likelihood\n",
        "    loglik = -log_loss(y_data, model.predict_proba(X_data)) * len(y_data)\n",
        "    # Calculate the number of parameters\n",
        "    k = X_data.shape[1] + 1\n",
        "    # Calculate AIC... smaller is better\n",
        "    aic = 2 * k -2 * loglik\n",
        "    # print(f\"AIC: {aic}\") # print for initial testing\n",
        "    return aic\n",
        "\n",
        "from itertools import chain, combinations\n",
        "\n",
        "def powerset(iterable):\n",
        "    s = list(iterable)\n",
        "    return chain.from_iterable(combinations(s, r) for r in range(1, len(s)))\n",
        "\n",
        "trialNumber = 0 # initialize count\n",
        "# Use X_scaled for feature selection\n",
        "for c in powerset(range(X_scaled.shape[1])):\n",
        "    trialNumber = trialNumber + 1\n",
        "    # print(c)\n",
        "    thisAIC = getAIC(X_scaled[:,c], y)\n",
        "    thisTrialDataFrame = pl.DataFrame({\"trialNumber\": trialNumber,\n",
        "                                       \"features\": ' '.join(map(str, c)),\n",
        "                                       \"aic\": thisAIC},\n",
        "                                        schema=resultsSchema)\n",
        "    resultsDataFrame = pl.concat([resultsDataFrame,thisTrialDataFrame])\n",
        "\n",
        "# one more set of features... all features\n",
        "trialNumber = trialNumber + 1\n",
        "thisAIC = getAIC(X_scaled, y)\n",
        "thisTrialDataFrame = pl.DataFrame({\"trialNumber\": trialNumber,\n",
        "                                   \"features\": \" \".join(map(str, range(X_scaled.shape[1]))), # Update feature string for all features\n",
        "                                   \"aic\": thisAIC},\n",
        "                                    schema=resultsSchema, strict=False)\n",
        "resultsDataFrame = pl.concat([resultsDataFrame,thisTrialDataFrame])"
      ]
    },
    {
      "cell_type": "code",
      "execution_count": 17,
      "metadata": {
        "id": "aPpWKfnBWwTz",
        "colab": {
          "base_uri": "https://localhost:8080/"
        },
        "outputId": "3d3c2a3c-699d-4497-fa81-3f6fe13ef767"
      },
      "outputs": [
        {
          "output_type": "stream",
          "name": "stdout",
          "text": [
            "shape: (10, 3)\n",
            "┌─────────────┬──────────┬─────────────┐\n",
            "│ trialNumber ┆ features ┆ aic         │\n",
            "│ ---         ┆ ---      ┆ ---         │\n",
            "│ i64         ┆ str      ┆ f64         │\n",
            "╞═════════════╪══════════╪═════════════╡\n",
            "│ 21          ┆ 0 6      ┆ 5567.320298 │\n",
            "│ 34          ┆ 1 6      ┆ 5567.321466 │\n",
            "│ 90          ┆ 6 12     ┆ 5567.323412 │\n",
            "│ 46          ┆ 2 6      ┆ 5567.323473 │\n",
            "│ 91          ┆ 6 13     ┆ 5567.345301 │\n",
            "│ 92          ┆ 6 14     ┆ 5567.378777 │\n",
            "│ 89          ┆ 6 11     ┆ 5568.197874 │\n",
            "│ 292         ┆ 2 3 6    ┆ 5568.260505 │\n",
            "│ 380         ┆ 3 6 12   ┆ 5568.271982 │\n",
            "│ 148         ┆ 0 3 6    ┆ 5568.274761 │\n",
            "└─────────────┴──────────┴─────────────┘\n"
          ]
        }
      ],
      "source": [
        "print(resultsDataFrame.sort('aic').head(10))"
      ]
    },
    {
      "cell_type": "markdown",
      "metadata": {
        "id": "BN_ilqfdWwTz"
      },
      "source": [
        "### Selected Feature Subset\n",
        "Reviewing the ten lowest *AIC* models, we selected five features for subsequent model development:\n",
        "- **CloseLag3** Lag-three daily closing price\n",
        "- **HMLLag1** Lag-one high minus low daily prices\n",
        "- **OMCLag2** Lag-two open minus closing daily prices\n",
        "- **OMCLag3** Lag-three open minus closing daily prices\n",
        "- **CloseEMA8** Exponential moving average across eight days"
      ]
    },
    {
      "cell_type": "code",
      "execution_count": 15,
      "metadata": {
        "colab": {
          "base_uri": "https://localhost:8080/"
        },
        "id": "qgLTa4tDWwT0",
        "outputId": "0f842f0d-2e17-4fc8-8d7f-c8f555364756"
      },
      "outputs": [
        {
          "output_type": "stream",
          "name": "stdout",
          "text": [
            "Selected Features: ['CloseLag1', 'CloseLag3', 'HMLLag1', 'OMCLag1', 'CloseEMA2', 'CloseEMA8']\n",
            "shape: (5, 6)\n",
            "┌───────────┬───────────┬───────────┬───────────┬───────────┬───────────┐\n",
            "│ CloseLag1 ┆ CloseLag3 ┆ HMLLag1   ┆ OMCLag1   ┆ CloseEMA2 ┆ CloseEMA8 │\n",
            "│ ---       ┆ ---       ┆ ---       ┆ ---       ┆ ---       ┆ ---       │\n",
            "│ f64       ┆ f64       ┆ f64       ┆ f64       ┆ f64       ┆ f64       │\n",
            "╞═══════════╪═══════════╪═══════════╪═══════════╪═══════════╪═══════════╡\n",
            "│ -0.826594 ┆ -0.824369 ┆ -0.683774 ┆ 0.052231  ┆ -0.826272 ┆ -0.826817 │\n",
            "│ -0.826128 ┆ -0.825457 ┆ -0.690407 ┆ 0.011725  ┆ -0.82633  ┆ -0.826955 │\n",
            "│ -0.826461 ┆ -0.826438 ┆ -0.699909 ┆ 0.033584  ┆ -0.826529 ┆ -0.827129 │\n",
            "│ -0.826351 ┆ -0.825971 ┆ -0.706253 ┆ 0.022125  ┆ -0.826567 ┆ -0.827214 │\n",
            "│ -0.825241 ┆ -0.826304 ┆ -0.682394 ┆ -0.006388 ┆ -0.826026 ┆ -0.82702  │\n",
            "└───────────┴───────────┴───────────┴───────────┴───────────┴───────────┘\n"
          ]
        }
      ],
      "source": [
        "# Based on the AIC results (assuming the sorted output from cell aPpWKfnBWwTz),\n",
        "# select the indices of the features for the subset.\n",
        "# For example, if the best AIC had feature indices 2, 5, 8, 11, 14\n",
        "selected_feature_indices = [0, 2, 3, 6, 12, 14] # Replace with the actual indices from your AIC results\n",
        "\n",
        "# Select the subset of standardized features using the selected indices\n",
        "X_subset_scaled = X_scaled[:, selected_feature_indices]\n",
        "\n",
        "# Optional: print the names of the selected features\n",
        "selected_feature_names = [featureNames[i] for i in selected_feature_indices]\n",
        "print(\"Selected Features:\", selected_feature_names)\n",
        "\n",
        "# You can also create a Polars DataFrame from the subset for easier viewing of values\n",
        "X_subset_polars = pl.DataFrame(X_subset_scaled, schema=selected_feature_names)\n",
        "print(X_subset_polars.head())\n",
        "\n",
        "# Use X_subset_scaled for subsequent model training and evaluation\n",
        "X = X_subset_scaled"
      ]
    },
    {
      "cell_type": "code",
      "execution_count": 16,
      "metadata": {
        "colab": {
          "base_uri": "https://localhost:8080/"
        },
        "id": "2xMZAT2tWwT0",
        "outputId": "d783d649-15fb-4cfb-c119-b6431e2c19a7"
      },
      "outputs": [
        {
          "output_type": "stream",
          "name": "stdout",
          "text": [
            "Shape of the selected and standardized features: (4040, 6)\n"
          ]
        }
      ],
      "source": [
        "# X already contains the selected subset of standardized features as a numpy array\n",
        "# The following line is not needed as feature selection was done in the previous cell\n",
        "# X = X.select('CloseLag3','HMLLag1','OMCLag2','OMCLag3','CloseEMA8', 'VolumeLag1', 'RSI_CloseLag1','RSI_CloseLag2')\n",
        "\n",
        "# Verify the shape and content (optional)\n",
        "print(\"Shape of the selected and standardized features:\", X.shape)\n",
        "# print(\"First 5 rows of the selected and standardized features:\")\n",
        "# print(X[:5])"
      ]
    },
    {
      "cell_type": "markdown",
      "metadata": {
        "id": "WaJwMBD8WwT1"
      },
      "source": [
        "### Define an Initial Classification Model to Be Evaluated¶\n",
        "We again select gradient boosting from the XGBoost package, this time defining a classification model to be evaluated. Hyperparameters are retained at defauld settings, except for n_estimators."
      ]
    },
    {
      "cell_type": "code",
      "execution_count": 22,
      "metadata": {
        "id": "jjHSfepyWwT1"
      },
      "outputs": [],
      "source": [
        "# Use the standardized features for model initialization\n",
        "model = XGBClassifier(objective='binary:logistic', n_estimators=1000, random_state=2025)"
      ]
    },
    {
      "cell_type": "markdown",
      "metadata": {
        "id": "GwK7kGcJWwT2"
      },
      "source": [
        "### Randomized Search for Hyperparameter Settings\n",
        "We search for effective values on five XGBoost hyperparameters: **max_depth**, **min_child_weight**, **subsample**, **learning_rate**, and **n_estimators**."
      ]
    },
    {
      "cell_type": "code",
      "execution_count": 22,
      "metadata": {
        "colab": {
          "base_uri": "https://localhost:8080/"
        },
        "id": "6a2-I_XpWwT2",
        "outputId": "9fdc1387-fc95-4cdb-e16b-39193518664f"
      },
      "outputs": [
        {
          "output_type": "stream",
          "name": "stdout",
          "text": [
            "Best parameters: {'learning_rate': np.float64(0.07761938857689385), 'max_depth': 4, 'min_child_weight': 8, 'n_estimators': 712, 'subsample': np.float64(0.9518179342873276)}\n",
            "Best score: 0.5150074294205051\n"
          ]
        }
      ],
      "source": [
        "# Randomized search to find the best set of hyperparameters\n",
        "\n",
        "param_dist = {\n",
        "    'max_depth': randint(3, 10),\n",
        "    'min_child_weight': randint(1, 10),\n",
        "    'subsample': uniform(0.5, 1),\n",
        "    'learning_rate': uniform(0.01, 0.1),\n",
        "    'n_estimators': randint(100, 1000),\n",
        "}\n",
        "xgb_model = xgb.XGBClassifier(objective='binary:logistic', use_label_encoder=False, eval_metric='logloss', random_state=2025)\n",
        "\n",
        "random_search = RandomizedSearchCV(\n",
        "    estimator=xgb_model,\n",
        "    param_distributions=param_dist,\n",
        "    n_iter=100, # Number of parameter settings that are sampled.\n",
        "    scoring='accuracy',\n",
        "    cv = TimeSeriesSplit(gap=10, n_splits=5),\n",
        "    random_state=2025,\n",
        "    n_jobs=-1 # Use all available cores\n",
        ")\n",
        "\n",
        "# Use the standardized features X for randomized search\n",
        "random_search.fit(X, y)\n",
        "\n",
        "print(\"Best parameters:\", random_search.best_params_)\n",
        "print(\"Best score:\", random_search.best_score_)"
      ]
    },
    {
      "cell_type": "markdown",
      "metadata": {
        "id": "uHP6YUg_WwT2"
      },
      "source": [
        "### Evaluate the Model\n",
        "We define define an XGBoost subset model with these hyperparameter values and evaluate on the full data set."
      ]
    },
    {
      "cell_type": "code",
      "metadata": {
        "colab": {
          "base_uri": "https://localhost:8080/"
        },
        "id": "xWNjISjbXV6Z",
        "outputId": "e556f88c-5c1a-4831-d684-5743e273557d"
      },
      "source": [
        "import pandas as pd\n",
        "# Filter data into training and testing sets\n",
        "train_df = btc.filter(pl.col('Date').dt.year() <= 2022)\n",
        "test_df = btc.filter(pl.col('Date').dt.year() > 2022)\n",
        "\n",
        "def applyScaler(numArray, cols):\n",
        "  # Standardize features\n",
        "  scaler = StandardScaler()\n",
        "  X_scaled = scaler.fit_transform(numArray)\n",
        "  return pd.DataFrame(X_scaled, columns=cols)\n",
        "\n",
        "# Extract features and target for the training set\n",
        "# Convert Polars DataFrame to NumPy array for feature selection\n",
        "X_train_polars = train_df.drop(['Date', 'LogReturn', 'Target', 'Open', 'High', 'Low', 'Close', 'Volume', 'HML', 'OMC'])\n",
        "# Convert to numpy array before standardization\n",
        "X_train_np = np.array(X_train_polars)\n",
        "featureNames = X_train_polars.columns # Keep track of feature names before standardization\n",
        "X_train = applyScaler(X_train_np, featureNames)\n",
        "y_train = np.array(train_df['Target'])\n",
        "\n",
        "# Extract features and target for the testing set\n",
        "X_test_polars = test_df.drop(['Date', 'LogReturn', 'Target', 'Open', 'High', 'Low', 'Close', 'Volume', 'HML', 'OMC'])\n",
        "X_test_np = np.array(X_test_polars)\n",
        "X_test = applyScaler(X_test_np, featureNames)\n",
        "y_test = np.array(test_df['Target'])\n",
        "\n",
        "print(\"Shape of X_train:\", X_train.shape)\n",
        "print(\"Shape of y_train:\", y_train.shape)\n",
        "print(\"Shape of X_test:\", X_test.shape)\n",
        "print(\"Shape of y_test:\", y_test.shape)"
      ],
      "execution_count": 19,
      "outputs": [
        {
          "output_type": "stream",
          "name": "stdout",
          "text": [
            "Shape of X_train: (3025, 15)\n",
            "Shape of y_train: (3025,)\n",
            "Shape of X_test: (1015, 15)\n",
            "Shape of y_test: (1015,)\n"
          ]
        }
      ]
    },
    {
      "cell_type": "markdown",
      "metadata": {
        "id": "92b28758"
      },
      "source": [
        "## Model development and evaluation on training data\n",
        "\n",
        "### Subtask:\n",
        "Train and evaluate both the Logistic Regression and XGBoost models using the training data (`X_train`, `y_train`) and the features selected in step 1.\n"
      ]
    },
    {
      "cell_type": "markdown",
      "metadata": {
        "id": "f4594dd9"
      },
      "source": [
        "**Reasoning**:\n",
        "Train and evaluate both Logistic Regression and XGBoost models on the training data and print the accuracy and classification reports.\n",
        "\n"
      ]
    },
    {
      "cell_type": "code",
      "metadata": {
        "colab": {
          "base_uri": "https://localhost:8080/"
        },
        "id": "9b9d8fce",
        "outputId": "619364b7-1369-4273-9950-8ec6e28c18a3"
      },
      "source": [
        "from sklearn.linear_model import LogisticRegression\n",
        "import xgboost as xgb\n",
        "from sklearn.metrics import accuracy_score, classification_report\n",
        "\n",
        "# 2. Instantiate a LogisticRegression model\n",
        "lr_model = LogisticRegression(random_state=2025, solver='liblinear')\n",
        "\n",
        "# 3. Train the Logistic Regression model\n",
        "lr_model.fit(X_train, y_train)\n",
        "\n",
        "# 4. Make predictions on the X_train data using the trained Logistic Regression model.\n",
        "y_train_lr_pred = lr_model.predict(X_train)\n",
        "\n",
        "# 5. Calculate and print the accuracy score for the Logistic Regression model on the training data.\n",
        "lr_train_accuracy = accuracy_score(y_train, y_train_lr_pred)\n",
        "print(f\"Logistic Regression Training Accuracy: {lr_train_accuracy:.4f}\")\n",
        "\n",
        "# 6. Instantiate an XGBClassifier model with the best parameters\n",
        "xgb_model = xgb.XGBClassifier(objective='binary:logistic', eval_metric='logloss', random_state=2025,\n",
        "                          max_depth = 8, min_child_weight = 6, subsample = 0.7848, learning_rate = 0.09416, n_estimators = 159)\n",
        "\n",
        "# 7. Train the XGBoost model using the X_train and y_train data.\n",
        "xgb_model.fit(X_train, y_train)\n",
        "\n",
        "# 8. Make predictions on the X_train data using the trained XGBoost model.\n",
        "y_train_xgb_pred = xgb_model.predict(X_train)\n",
        "\n",
        "# 9. Calculate and print the accuracy score for the XGBoost model on the training data.\n",
        "xgb_train_accuracy = accuracy_score(y_train, y_train_xgb_pred)\n",
        "print(f\"XGBoost Training Accuracy: {xgb_train_accuracy:.4f}\")\n",
        "\n",
        "# 10. Print a classification report for both models on the training data\n",
        "print(\"\\nLogistic Regression Training Classification Report:\")\n",
        "print(classification_report(y_train, y_train_lr_pred))\n",
        "\n",
        "print(\"\\nXGBoost Training Classification Report:\")\n",
        "print(classification_report(y_train, y_train_xgb_pred))"
      ],
      "execution_count": 20,
      "outputs": [
        {
          "output_type": "stream",
          "name": "stdout",
          "text": [
            "Logistic Regression Training Accuracy: 0.5418\n",
            "XGBoost Training Accuracy: 0.9273\n",
            "\n",
            "Logistic Regression Training Classification Report:\n",
            "              precision    recall  f1-score   support\n",
            "\n",
            "           0       0.53      0.15      0.24      1411\n",
            "           1       0.54      0.88      0.67      1614\n",
            "\n",
            "    accuracy                           0.54      3025\n",
            "   macro avg       0.54      0.52      0.45      3025\n",
            "weighted avg       0.54      0.54      0.47      3025\n",
            "\n",
            "\n",
            "XGBoost Training Classification Report:\n",
            "              precision    recall  f1-score   support\n",
            "\n",
            "           0       0.95      0.89      0.92      1411\n",
            "           1       0.91      0.96      0.93      1614\n",
            "\n",
            "    accuracy                           0.93      3025\n",
            "   macro avg       0.93      0.92      0.93      3025\n",
            "weighted avg       0.93      0.93      0.93      3025\n",
            "\n"
          ]
        }
      ]
    },
    {
      "cell_type": "markdown",
      "metadata": {
        "id": "be6bdff3"
      },
      "source": [
        "## Final model evaluation on test data\n",
        "\n",
        "### Subtask:\n",
        "Evaluate the performance of the trained Logistic Regression and XGBoost models on the hold-out test data (`X_test`, `y_test`) from 2025.\n"
      ]
    },
    {
      "cell_type": "markdown",
      "metadata": {
        "id": "3905a69b"
      },
      "source": [
        "**Reasoning**:\n",
        "Evaluate the trained models on the hold-out test set by making predictions, calculating accuracy, printing classification reports, and displaying confusion matrices and ROC curves.\n",
        "\n"
      ]
    },
    {
      "cell_type": "code",
      "metadata": {
        "colab": {
          "base_uri": "https://localhost:8080/",
          "height": 1000
        },
        "id": "449156a6",
        "outputId": "f116bd04-4534-4054-c302-08606ee11798"
      },
      "source": [
        "from sklearn.metrics import accuracy_score, classification_report, confusion_matrix, ConfusionMatrixDisplay, RocCurveDisplay\n",
        "import matplotlib.pyplot as plt\n",
        "\n",
        "# 1. Use the trained Logistic Regression model (lr_model) to make predictions on the X_test data.\n",
        "y_test_lr_pred = lr_model.predict(X_test)\n",
        "\n",
        "# 2. Use the trained XGBoost model (xgb_model) to make predictions on the X_test data.\n",
        "y_test_xgb_pred = xgb_model.predict(X_test)\n",
        "\n",
        "# 3. Calculate and print the accuracy score for the Logistic Regression model on the test data.\n",
        "lr_test_accuracy = accuracy_score(y_test, y_test_lr_pred)\n",
        "print(f\"Logistic Regression Test Accuracy: {lr_test_accuracy:.4f}\")\n",
        "\n",
        "# 4. Calculate and print the accuracy score for the XGBoost model on the test data.\n",
        "xgb_test_accuracy = accuracy_score(y_test, y_test_xgb_pred)\n",
        "print(f\"XGBoost Test Accuracy: {xgb_test_accuracy:.4f}\")\n",
        "\n",
        "# 5. Print a classification report for the Logistic Regression model on the test data.\n",
        "print(\"\\nLogistic Regression Test Classification Report:\")\n",
        "print(classification_report(y_test, y_test_lr_pred))\n",
        "\n",
        "# 6. Print a classification report for the XGBoost model on the test data.\n",
        "print(\"\\nXGBoost Test Classification Report:\")\n",
        "print(classification_report(y_test, y_test_xgb_pred))\n",
        "\n",
        "# 7. Generate and display the confusion matrix for both models on the test data using ConfusionMatrixDisplay.\n",
        "fig, axes = plt.subplots(1, 2, figsize=(12, 5))\n",
        "\n",
        "ConfusionMatrixDisplay.from_predictions(y_test, y_test_lr_pred,\n",
        "                                         display_labels=[\"Negative Return\", \"Positive Return\"],\n",
        "                                         cmap=plt.cm.Blues,\n",
        "                                         ax=axes[0])\n",
        "axes[0].set_title(\"Logistic Regression Confusion Matrix (Test)\")\n",
        "axes[0].set_xlabel(\"Predicted Return\")\n",
        "axes[0].set_ylabel(\"Actual Return\")\n",
        "\n",
        "ConfusionMatrixDisplay.from_predictions(y_test, y_test_xgb_pred,\n",
        "                                         display_labels=[\"Negative Return\", \"Positive Return\"],\n",
        "                                         cmap=plt.cm.Blues,\n",
        "                                         ax=axes[1])\n",
        "axes[1].set_title(\"XGBoost Confusion Matrix (Test)\")\n",
        "axes[1].set_xlabel(\"Predicted Return\")\n",
        "axes[1].set_ylabel(\"Actual Return\")\n",
        "\n",
        "plt.tight_layout()\n",
        "plt.show()\n",
        "\n",
        "# 8. Generate and display the ROC curve for both models on the test data using RocCurveDisplay.from_predictions.\n",
        "plt.figure(figsize=(8, 6))\n",
        "lr_roc_display = RocCurveDisplay.from_predictions(y_test, lr_model.predict_proba(X_test)[:, 1], name=\"Logistic Regression\")\n",
        "xgb_roc_display = RocCurveDisplay.from_predictions(y_test, xgb_model.predict_proba(X_test)[:, 1], name=\"XGBoost\", ax=lr_roc_display.ax_)\n",
        "\n",
        "plt.title(\"ROC Curve (Test Data)\")\n",
        "plt.show()"
      ],
      "execution_count": 21,
      "outputs": [
        {
          "output_type": "stream",
          "name": "stdout",
          "text": [
            "Logistic Regression Test Accuracy: 0.5094\n",
            "XGBoost Test Accuracy: 0.5044\n",
            "\n",
            "Logistic Regression Test Classification Report:\n",
            "              precision    recall  f1-score   support\n",
            "\n",
            "           0       0.50      0.21      0.29       498\n",
            "           1       0.51      0.80      0.62       517\n",
            "\n",
            "    accuracy                           0.51      1015\n",
            "   macro avg       0.51      0.50      0.46      1015\n",
            "weighted avg       0.51      0.51      0.46      1015\n",
            "\n",
            "\n",
            "XGBoost Test Classification Report:\n",
            "              precision    recall  f1-score   support\n",
            "\n",
            "           0       0.49      0.36      0.42       498\n",
            "           1       0.51      0.64      0.57       517\n",
            "\n",
            "    accuracy                           0.50      1015\n",
            "   macro avg       0.50      0.50      0.49      1015\n",
            "weighted avg       0.50      0.50      0.49      1015\n",
            "\n"
          ]
        },
        {
          "output_type": "display_data",
          "data": {
            "text/plain": [
              "<Figure size 1200x500 with 4 Axes>"
            ],
            "image/png": "[encoded data removed]"
          },
          "metadata": {}
        },
        {
          "output_type": "display_data",
          "data": {
            "text/plain": [
              "<Figure size 800x600 with 0 Axes>"
            ]
          },
          "metadata": {}
        },
        {
          "output_type": "display_data",
          "data": {
            "text/plain": [
              "<Figure size 640x480 with 1 Axes>"
            ],
            "image/png": "[encoded data removed]"
          },
          "metadata": {}
        }
      ]
    },
    {
      "cell_type": "markdown",
      "metadata": {
        "id": "ShAVaiquGdb-"
      },
      "source": [
        "**Visualization of Buy / Sell signals**:\n",
        "\n",
        "This visualization helps to visually assess how the generated buy and sell signals align with the historical price movements. You can see where the strategy would have theoretically entered (bought) and exited (sold a portion) positions based on the model's predictions. This can be a useful way to get an initial qualitative understanding of the strategy's behavior before looking at quantitative performance metrics"
      ]
    },
    {
      "cell_type": "code",
      "execution_count": 29,
      "metadata": {
        "colab": {
          "base_uri": "https://localhost:8080/",
          "height": 512
        },
        "id": "56098969",
        "outputId": "2710358d-216f-4837-cde8-827912666c9f"
      },
      "outputs": [
        {
          "output_type": "display_data",
          "data": {
            "text/plain": [
              "<Figure size 1200x600 with 1 Axes>"
            ],
            "image/png": "[encoded data removed]"
          },
          "metadata": {}
        }
      ],
      "source": [
        "import matplotlib.pyplot as plt\n",
        "import pandas as pd\n",
        "\n",
        "# Ensure btc_pandas is available (convert from Polars if needed)\n",
        "if isinstance(btc, pl.DataFrame):\n",
        "    btc_pandas = btc.to_pandas()\n",
        "elif 'btc_pandas' not in globals():\n",
        "    print(\"btc_pandas DataFrame not found. Please run the data loading and processing cells.\")\n",
        "    # Exit or handle the error appropriately if the DataFrame is not available\n",
        "else:\n",
        "    pass # btc_pandas is already a pandas DataFrame\n",
        "\n",
        "# Identify buy signals (Target changes from 0 to 1)\n",
        "buy_signals = btc_pandas[(btc_pandas['Target'] == 1) & (btc_pandas['Target'].shift(1) == 0)]\n",
        "\n",
        "# Identify sell signals (Target changes from 1 to 0 for three consecutive days)\n",
        "# Check for Target=0 on the current day and Target=1 on the previous three days\n",
        "sell_signals = btc_pandas[(btc_pandas['Target'] == 0) & (btc_pandas['Target'].shift(1) == 1) &\n",
        "                          (btc_pandas['Target'].shift(2) == 1) & (btc_pandas['Target'].shift(3) == 1)]\n",
        "\n",
        "\n",
        "# Create the plot\n",
        "plt.figure(figsize=(12, 6))\n",
        "plt.plot(btc_pandas['Date'], btc_pandas['Close'], label='Close Price', color='blue')\n",
        "\n",
        "# Plot buy signals as green triangles\n",
        "plt.scatter(buy_signals['Date'], buy_signals['Close'], marker='^', color='green', label='Buy Signal', alpha=1)\n",
        "\n",
        "# Plot sell signals as red triangles pointing down\n",
        "plt.scatter(sell_signals['Date'], sell_signals['Close'], marker='v', color='red', label='Sell Signal', alpha=1)\n",
        "\n",
        "\n",
        "# Add title and labels\n",
        "plt.title('Bitcoin Close Price with Buy and Sell Signals')\n",
        "plt.xlabel('Date')\n",
        "plt.ylabel('Close Price')\n",
        "plt.legend()\n",
        "plt.grid(True)\n",
        "\n",
        "# Show the plot\n",
        "plt.show()"
      ]
    },
    {
      "cell_type": "markdown",
      "metadata": {
        "id": "c52790f9"
      },
      "source": [
        "##Simple Buy Strategy :\n",
        "\n",
        "The core of the buy strategy is driven by the Target variable, which is a binary prediction (1 for positive return, 0 for zero or negative return). A buy signal is generated when the Target changes from 0 on the previous day to 1 on the current day. This transition is interpreted as the model predicting an upward movement in the Bitcoin price after a period of non-positive movement.\n",
        "\n",
        "The systematic investment plan aspect comes into play with the amount of capital used for each buy trade. Initially, the code used a fixed buy_amount of $250. However, based on a recent modification, the strategy now calculates the amount to spend on each buy as the maximum of two values:\n",
        "\n",
        "The fixed buy_amount (which is set to 250).\n",
        "5% of the current available capital.\n",
        "This means that if 5% of the current capital is less than 250, the strategy will invest a minimum of 250. If 5% of the current capital is greater than 250, the strategy will invest 5% of the capital, allowing the investment amount to scale with the portfolio size.\n",
        "\n",
        "When a buy signal is triggered and the amount to spend is determined, the strategy calculates how much Bitcoin can be bought with that capital using the previous day's closing price (CloseLag1). If the current available capital is greater than or equal to the calculated capital_to_spend, the trade is executed: the capital is reduced by capital_to_spend, and the corresponding amount of Bitcoin is added to the bitcoin_held.\n",
        "\n",
        "In summary, the simple buy strategy is event-driven, buying only when a specific bullish signal from the predictive model is received, and it incorporates a systematic approach to determining the trade size, investing at least a fixed amount or a percentage of the growing capital, whichever is larger."
      ]
    },
    {
      "cell_type": "code",
      "execution_count": 28,
      "metadata": {
        "colab": {
          "base_uri": "https://localhost:8080/"
        },
        "id": "226ea90a",
        "outputId": "ea92230d-8c40-4f03-ad17-701dc9cf7165"
      },
      "outputs": [
        {
          "output_type": "stream",
          "name": "stdout",
          "text": [
            "--- Simple Strategy (XGBoost Predictions) ---\n",
            "Initial Capital: $10000.00\n",
            "Uninvested Capital: $126.75\n",
            "Final Capital: $43128.18\n",
            "-----------------------------------\n",
            "--- Simple Strategy (Logistic Regression Predictions) ---\n",
            "Initial Capital: $10000.00\n",
            "Uninvested Capital: $126.75\n",
            "Final Capital: $12320.00\n",
            "-----------------------------------\n",
            "--- Simple Buy and Hold (Test Period) ---\n",
            "Initial Capital: $10000.00\n",
            "Final Capital: $66651.04\n",
            "-----------------------------------\n"
          ]
        }
      ],
      "source": [
        "import pandas as pd\n",
        "import numpy as np\n",
        "import polars as pl # Import polars\n",
        "\n",
        "# Ensure btc_pandas is available (convert from Polars if needed)\n",
        "# If btc (Polars DataFrame) exists, convert it to pandas.\n",
        "# Otherwise, try loading from the CSV.\n",
        "if 'btc' in globals() and isinstance(btc, pl.DataFrame):\n",
        "    btc_pandas = btc.to_pandas()\n",
        "elif 'btc_pandas' not in globals():\n",
        "    print(\"btc_pandas DataFrame not found. Trying to load from CSV.\")\n",
        "    try:\n",
        "        btc_pandas = pd.read_csv(\"btc-with-computed-features.csv\", parse_dates=['Date'])\n",
        "    except Exception as e:\n",
        "        print(f\"Error loading btc-with-computed-features.csv for backtesting: {e}\")\n",
        "        print(\"Please ensure 'btc-with-computed-features.csv' exists or run the data processing steps.\")\n",
        "        # Exit or handle the error appropriately\n",
        "        exit() # Or raise an exception\n",
        "else:\n",
        "    pass # btc_pandas is already a pandas DataFrame\n",
        "\n",
        "\n",
        "def backtest_strategy(btc_data, y_pred, y_actual, initial_capital, buy_amount):\n",
        "    \"\"\"\n",
        "    Backtests a simple trading strategy based on predicted Target variable.\n",
        "\n",
        "    Args:\n",
        "        btc_data (pd.DataFrame): DataFrame containing the historical data\n",
        "                                   with 'Date', 'Close', and 'CloseLag1' columns.\n",
        "                                   This is used for dates and prices.\n",
        "        y_pred (np.ndarray): Predicted target values (0 or 1) from the model.\n",
        "        y_actual (np.ndarray): Actual target values (0 or 1). Used for aligning\n",
        "                               predictions with dates/prices if needed, though\n",
        "                               primarily dates/prices from btc_data are used.\n",
        "        initial_capital (float): The starting capital for the simulation.\n",
        "        buy_amount (float): The amount of capital to use for each buy trade\n",
        "                            (or a percentage of capital, as implemented).\n",
        "\n",
        "    Returns:\n",
        "        tuple: A tuple containing the final capital, remaining capital, and\n",
        "               the amount of bitcoin held.\n",
        "    \"\"\"\n",
        "    capital = initial_capital\n",
        "    bitcoin_held = 0\n",
        "\n",
        "    # Ensure y_pred and y_actual have the same length as the relevant btc_data subset\n",
        "    # Assuming y_pred and y_actual correspond to the test_df data\n",
        "    # We need to align the predictions with the test_df dates and prices\n",
        "\n",
        "    # Find the starting index of the test data in the original btc_data\n",
        "    # This assumes test_df was created by filtering btc based on date\n",
        "    if 'test_df' not in globals() or not isinstance(test_df, pl.DataFrame):\n",
        "         print(\"Error: 'test_df' Polars DataFrame not found. Please run the data splitting cell.\")\n",
        "         return capital, bitcoin_held, capital # Return initial capital if test_df is not available\n",
        "\n",
        "    if test_df.is_empty():\n",
        "        print(\"Test data is empty, cannot perform backtesting.\")\n",
        "        return capital, bitcoin_held, capital # Return initial capital if test_df is empty\n",
        "\n",
        "    test_start_date = test_df['Date'].min()\n",
        "    start_idx = btc_data[btc_data['Date'] == test_start_date].index[0]\n",
        "\n",
        "    # Iterate through the test data period using indices relative to btc_data\n",
        "    # The loop should iterate over the length of the test data predictions (y_pred)\n",
        "    for i in range(1, len(y_pred)):\n",
        "        # Get the index in the original btc_data (pandas) DataFrame\n",
        "        current_btc_idx = start_idx + i\n",
        "        # Get the index in the y_pred/y_actual arrays\n",
        "        current_pred_idx = i\n",
        "        previous_pred_idx = i - 1\n",
        "\n",
        "        # Check if the predicted target changed from 0 to 1\n",
        "        if y_pred[current_pred_idx] == 1 and y_pred[previous_pred_idx] == 0:\n",
        "            # Calculate the number of Bitcoin futures to buy\n",
        "            # Use the closing price of the previous day from the original data for a more realistic simulation\n",
        "            # Ensure current_btc_idx is within bounds of btc_data\n",
        "            if current_btc_idx < len(btc_data):\n",
        "                buy_price = btc_data['CloseLag1'].iloc[current_btc_idx]\n",
        "                if buy_price > 0: # Avoid division by zero\n",
        "                    # Calculate the amount to spend: max of fixed buy_amount or 5% of current capital\n",
        "                    capital_to_spend = max(buy_amount, capital * 0.05)\n",
        "                    amount_to_buy = capital_to_spend / buy_price\n",
        "                    # Execute the trade if enough capital is available\n",
        "                    if capital >= capital_to_spend:\n",
        "                        capital -= capital_to_spend\n",
        "                        bitcoin_held += amount_to_buy\n",
        "                        # print(f\"Bought {amount_to_buy:.6f} BTC at {buy_price:.2f} on {btc_data['Date'].iloc[current_btc_idx].date()}\") # Optional: uncomment for detailed logs\n",
        "                    # else:\n",
        "                        # print(f\"Not enough capital to buy on {btc_data['Date'].iloc[current_btc_idx].date()}\") # Optional: uncomment for detailed logs\n",
        "            # else:\n",
        "                # print(f\"Index {current_btc_idx} out of bounds for btc_data during buy operation.\")\n",
        "\n",
        "\n",
        "    # Calculate the final capital\n",
        "    # Use the last closing price from the original data to value the held Bitcoin futures\n",
        "    last_price = btc_data['Close'].iloc[-1]\n",
        "    final_capital = capital + (bitcoin_held * last_price)\n",
        "\n",
        "    return capital, bitcoin_held, final_capital\n",
        "\n",
        "# Call the function with the initial parameters and the test data predictions/actuals\n",
        "initial_capital = 10000\n",
        "buy_amount = 250 # Fixed buy amount if 5% of capital is less than this\n",
        "# Assuming y_test_xgb_pred and y_test are available from previous cells\n",
        "# Ensure test_df is available and is a Polars DataFrame before proceeding\n",
        "if 'y_test_xgb_pred' in globals() and 'y_test' in globals() and 'test_df' in globals() and isinstance(test_df, pl.DataFrame):\n",
        "    remaining_capital_simple_xgb, held_bitcoin_simple_xgb, final_portfolio_value_simple_xgb = backtest_strategy(btc_pandas, y_test_xgb_pred, y_test, initial_capital, buy_amount)\n",
        "\n",
        "    print(\"--- Simple Strategy (XGBoost Predictions) ---\")\n",
        "    print(f\"Initial Capital: ${initial_capital:.2f}\")\n",
        "    print(f\"Uninvested Capital: ${remaining_capital_simple_xgb:.2f}\")\n",
        "    print(f\"Final Capital: ${final_portfolio_value_simple_xgb:.2f}\")\n",
        "    print(\"-\" * 35) # Separator line\n",
        "\n",
        "    # Run the Simple Strategy backtest with Logistic Regression predictions\n",
        "    if 'y_test_lr_pred' in globals():\n",
        "        remaining_capital_simple_lr, held_bitcoin_simple_lr, final_portfolio_value_simple_lr = backtest_strategy(btc_pandas, y_test_lr_pred, y_test, initial_capital, buy_amount)\n",
        "\n",
        "        print(\"--- Simple Strategy (Logistic Regression Predictions) ---\")\n",
        "        print(f\"Initial Capital: ${initial_capital:.2f}\")\n",
        "        print(f\"Uninvested Capital: ${remaining_capital_simple_lr:.2f}\")\n",
        "        print(f\"Final Capital: ${final_portfolio_value_simple_lr:.2f}\")\n",
        "        print(\"-\" * 35) # Separator line\n",
        "    else:\n",
        "         print(\"Logistic Regression test predictions (y_test_lr_pred) not found. Cannot run simple strategy with LR predictions.\")\n",
        "\n",
        "\n",
        "    # Compare with simple buy and hold over the test data period\n",
        "    # Assuming the first available Close price in the test_df is the entry point\n",
        "    if not test_df.is_empty():\n",
        "        # Use Polars native methods to get the first and last elements\n",
        "        initial_buy_price_for_comparison_test = test_df['Close'][0]\n",
        "        simple_buy_hold_amount_test = initial_capital / initial_buy_price_for_comparison_test\n",
        "        simple_buy_hold_final_capital_test = simple_buy_hold_amount_test * test_df['Close'][-1]\n",
        "\n",
        "        print(\"--- Simple Buy and Hold (Test Period) ---\")\n",
        "        print(f\"Initial Capital: ${initial_capital:.2f}\")\n",
        "        print(f\"Final Capital: ${simple_buy_hold_final_capital_test:.2f}\")\n",
        "        print(\"-\" * 35) # Separator line\n",
        "    else:\n",
        "        print(\"Test data is empty, cannot perform Buy and Hold comparison over the test period.\")\n",
        "\n",
        "else:\n",
        "    print(\"Required variables (y_test_xgb_pred, y_test, test_df) not found or test_df is not a Polars DataFrame. Please run the model training and evaluation and data splitting cells.\")"
      ]
    },
    {
      "cell_type": "markdown",
      "metadata": {
        "id": "3dc836cd"
      },
      "source": [
        "## Momentum-based systematic Buy and Sell strategy\n",
        "\n",
        "This trading strategy operates based on signals from a predictive model. The sell rule is straightforward: if the model predicts a non-positive return for the three consecutive days (Target is 0), the strategy sells 5% of the current Bitcoin holdings. The buy rule is more focused on a shift in momentum: the strategy initiates a buy only when the model predicts a positive return for the next day (Target is 1) and this follows three consecutive days where the model predicted non-positive returns (Target was 0 for the three preceding days). When this specific buy signal occurs, the strategy allocates 10% of the current available capital to purchase Bitcoin. This approach aims to capture upward movements after a period of bearish or sideways price action while trimming holdings during predicted downturns."
      ]
    },
    {
      "cell_type": "code",
      "execution_count": 30,
      "metadata": {
        "colab": {
          "base_uri": "https://localhost:8080/"
        },
        "id": "9b9eee1b",
        "outputId": "692ba7ae-053f-459e-869f-dd70f4ceba7f"
      },
      "outputs": [
        {
          "output_type": "stream",
          "name": "stdout",
          "text": [
            "--- Momentum Strategy (XGBoost Predictions) ---\n",
            "Initial Capital: $10000.00\n",
            "Uninvested Capital: $7451.02\n",
            "Final Capital: $14629.15\n",
            "-----------------------------------\n",
            "--- Momentum Strategy (Logistic Regression Predictions) ---\n",
            "Initial Capital: $10000.00\n",
            "Uninvested Capital: $8738.62\n",
            "Final Capital: $10787.96\n",
            "-----------------------------------\n"
          ]
        }
      ],
      "source": [
        "import pandas as pd\n",
        "import numpy as np\n",
        "import polars as pl # Import polars\n",
        "\n",
        "# Ensure btc_pandas is available (convert from Polars if needed)\n",
        "# If btc (Polars DataFrame) exists, convert it to pandas.\n",
        "# Otherwise, try loading from the CSV.\n",
        "if 'btc' in globals() and isinstance(btc, pl.DataFrame):\n",
        "    btc_pandas = btc.to_pandas()\n",
        "elif 'btc_pandas' not in globals():\n",
        "    print(\"btc_pandas DataFrame not found. Trying to load from CSV.\")\n",
        "    try:\n",
        "        btc_pandas = pd.read_csv(\"btc-with-computed-features.csv\", parse_dates=['Date'])\n",
        "    except Exception as e:\n",
        "        print(f\"Error loading btc-with-computed-features.csv for backtesting: {e}\")\n",
        "        print(\"Please ensure 'btc-with-computed-features.csv' exists or run the data processing steps.\")\n",
        "        # Exit or handle the error appropriately\n",
        "        exit() # Or raise an exception\n",
        "else:\n",
        "    pass # btc_pandas is already a pandas DataFrame\n",
        "\n",
        "\n",
        "def backtest_momentum_strategy(btc_data, y_pred, y_actual, initial_capital):\n",
        "    \"\"\"\n",
        "    Backtests a momentum-based trading strategy using predicted target values.\n",
        "\n",
        "    Args:\n",
        "        btc_data (pd.DataFrame): DataFrame containing the historical data\n",
        "                                   with 'Date', 'Close', and 'CloseLag1' columns.\n",
        "                                   This is used for dates and prices.\n",
        "        y_pred (np.ndarray): Predicted target values (0 or 1) from the model.\n",
        "        y_actual (np.ndarray): Actual target values (0 or 1). Used for aligning\n",
        "                               predictions with dates/prices if needed, though\n",
        "                               primarily dates/prices from btc_data are used.\n",
        "        initial_capital (float): The starting capital for the simulation.\n",
        "\n",
        "    Returns:\n",
        "        tuple: A tuple containing the final capital, remaining capital, and\n",
        "               the amount of bitcoin held.\n",
        "    \"\"\"\n",
        "    capital = initial_capital\n",
        "    bitcoin_held = 0\n",
        "\n",
        "    # Ensure y_pred and y_actual have the same length as the relevant btc_data subset\n",
        "    # Assuming y_pred and y_actual correspond to the test_df data\n",
        "    # We need to align the predictions with the test_df dates and prices\n",
        "\n",
        "    # Find the starting index of the test data in the original btc_data\n",
        "    # This assumes test_df was created by filtering btc based on date\n",
        "    # Ensure test_df is available and is a Polars DataFrame\n",
        "    if 'test_df' not in globals() or not isinstance(test_df, pl.DataFrame):\n",
        "         print(\"Error: 'test_df' Polars DataFrame not found. Please run the data splitting cell.\")\n",
        "         return capital, bitcoin_held, capital # Return initial capital if test_df is not available\n",
        "\n",
        "    if test_df.is_empty():\n",
        "        print(\"Test data is empty, cannot perform backtesting.\")\n",
        "        return capital, bitcoin_held, capital # Return initial capital if test_df is empty\n",
        "\n",
        "    test_start_date = test_df['Date'].min()\n",
        "    # Find the index in the pandas DataFrame btc_data\n",
        "    start_idx = btc_data[btc_data['Date'] == test_start_date].index[0]\n",
        "\n",
        "    # Iterate through the test data period using indices relative to btc_data\n",
        "    # We start from the 3rd day of the test data period to check for 3 consecutive previous days\n",
        "    # So the loop starts from index `start_idx + 3` in the btc_data DataFrame\n",
        "    # and uses indices relative to y_pred/y_actual (which start from 0 for the test set)\n",
        "    # The loop should iterate over the length of the test data predictions (y_pred)\n",
        "    for i in range(3, len(y_pred)):\n",
        "        # Get the index in the original btc_data (pandas) DataFrame\n",
        "        current_btc_idx = start_idx + i\n",
        "        # Get the index in the y_pred/y_actual arrays\n",
        "        current_pred_idx = i\n",
        "        previous_pred_idx_1 = i - 1\n",
        "        previous_pred_idx_2 = i - 2\n",
        "        previous_pred_idx_3 = i - 3\n",
        "\n",
        "        # Ensure indices are within bounds of y_pred\n",
        "        if previous_pred_idx_3 < 0 or current_pred_idx >= len(y_pred):\n",
        "            continue # Skip if indices are out of bounds\n",
        "\n",
        "\n",
        "        # Sell Condition: Sell 5% if predicted target is 0 for the current day and previous two days\n",
        "        # This rule is slightly adjusted to use predicted values for the consecutive check\n",
        "        if y_pred[current_pred_idx] == 0 and \\\n",
        "           y_pred[previous_pred_idx_1] == 0 and \\\n",
        "           y_pred[previous_pred_idx_2] == 0 and \\\n",
        "           bitcoin_held > 0:\n",
        "\n",
        "            percentage_to_sell = 0.05\n",
        "            amount_to_sell = bitcoin_held * percentage_to_sell\n",
        "\n",
        "            # Use the closing price of the previous day from the original data for a more realistic simulation\n",
        "            # Ensure current_btc_idx is within bounds of btc_data\n",
        "            if current_btc_idx < len(btc_data):\n",
        "                sell_price = btc_data['CloseLag1'].iloc[current_btc_idx]\n",
        "                if sell_price > 0 and amount_to_sell > 0: # Avoid division by zero and selling zero\n",
        "                    capital += amount_to_sell * sell_price\n",
        "                    bitcoin_held -= amount_to_sell\n",
        "                    # print(f\"Sold {amount_to_sell:.6f} BTC at {sell_price:.2f} on {btc_data['Date'].iloc[current_btc_idx].date()}\") # Optional: uncomment for detailed logs\n",
        "            # else:\n",
        "                # print(f\"Index {current_btc_idx} out of bounds for btc_data during sell operation.\")\n",
        "\n",
        "\n",
        "        # Buy Condition: Buy 10% if the predicted momentum changes to buy after 3 consecutive days of sell (predicted Target was 0)\n",
        "        # This rule uses predicted values for the consecutive check and the current buy signal\n",
        "        elif y_pred[current_pred_idx] == 1 and \\\n",
        "             y_pred[previous_pred_idx_1] == 0 and \\\n",
        "             y_pred[previous_pred_idx_2] == 0 and \\\n",
        "             y_pred[previous_pred_idx_3] == 0:\n",
        "\n",
        "            percentage_to_buy = 0.10\n",
        "            capital_to_spend = capital * percentage_to_buy\n",
        "\n",
        "            # Use the closing price of the previous day from the original data for a more realistic simulation\n",
        "            # Ensure current_btc_idx is within bounds of btc_data\n",
        "            if current_btc_idx < len(btc_data):\n",
        "                buy_price = btc_data['CloseLag1'].iloc[current_btc_idx]\n",
        "                if buy_price > 0 and capital_to_spend > 0: # Avoid division by zero and spending zero\n",
        "                     amount_to_buy = capital_to_spend / buy_price\n",
        "                     # Execute the trade if enough capital is available\n",
        "                     if capital >= capital_to_spend:\n",
        "                        capital -= capital_to_spend\n",
        "                        bitcoin_held += amount_to_buy\n",
        "                        # print(f\"Bought {amount_to_buy:.6f} BTC at {buy_price:.2f} on {btc_data['Date'].iloc[current_btc_idx].date()}\") # Optional: uncomment for detailed logs\n",
        "                     # else:\n",
        "                        # print(f\"Not enough capital to buy on {btc_data['Date'].iloc[current_btc_idx].date()}\") # Optional: uncomment for detailed logs\n",
        "            # else:\n",
        "                # print(f\"Index {current_btc_idx} out of bounds for btc_data during buy operation.\")\n",
        "\n",
        "\n",
        "    # Calculate the final capital\n",
        "    # Use the last closing price from the original data to value the held Bitcoin futures\n",
        "    last_price = btc_data['Close'].iloc[-1]\n",
        "    final_capital = capital + (bitcoin_held * last_price)\n",
        "\n",
        "    return capital, bitcoin_held, final_capital\n",
        "\n",
        "# Call the function with the initial parameters and the test data predictions/actuals\n",
        "initial_capital = 10000\n",
        "# Assuming y_test_xgb_pred and y_test are available from previous cells\n",
        "# Ensure test_df is available and is a Polars DataFrame before proceeding\n",
        "if 'y_test_xgb_pred' in globals() and 'y_test' in globals() and 'test_df' in globals() and isinstance(test_df, pl.DataFrame):\n",
        "    remaining_capital_momentum_xgb, held_bitcoin_momentum_xgb, final_portfolio_value_momentum_xgb = backtest_momentum_strategy(btc_pandas, y_test_xgb_pred, y_test, initial_capital)\n",
        "\n",
        "    print(\"--- Momentum Strategy (XGBoost Predictions) ---\")\n",
        "    print(f\"Initial Capital: ${initial_capital:.2f}\")\n",
        "    print(f\"Uninvested Capital: ${remaining_capital_momentum_xgb:.2f}\")\n",
        "    print(f\"Final Capital: ${final_portfolio_value_momentum_xgb:.2f}\")\n",
        "    print(\"-\" * 35) # Separator line\n",
        "\n",
        "    # Run the Momentum Strategy backtest with Logistic Regression predictions\n",
        "    if 'y_test_lr_pred' in globals():\n",
        "        remaining_capital_momentum_lr, held_bitcoin_momentum_lr, final_portfolio_value_momentum_lr = backtest_momentum_strategy(btc_pandas, y_test_lr_pred, y_test, initial_capital)\n",
        "\n",
        "        print(\"--- Momentum Strategy (Logistic Regression Predictions) ---\")\n",
        "        print(f\"Initial Capital: ${initial_capital:.2f}\")\n",
        "        print(f\"Uninvested Capital: ${remaining_capital_momentum_lr:.2f}\")\n",
        "        print(f\"Final Capital: ${final_portfolio_value_momentum_lr:.2f}\")\n",
        "        print(\"-\" * 35) # Separator line\n",
        "    else:\n",
        "         print(\"Logistic Regression test predictions (y_test_lr_pred) not found. Cannot run momentum strategy with LR predictions.\")\n",
        "\n",
        "\n",
        "    # Compare with simple buy and hold over the test data period\n",
        "    # This part remains the same as it's a benchmark\n",
        "    if not test_df.is_empty():\n",
        "        # Use Polars native methods to get the first and last elements\n",
        "        initial_buy_price_for_comparison_test = test_df['Close'][0]\n",
        "        simple_buy_hold_amount_test = initial_capital / initial_buy_price_for_comparison_test\n",
        "        simple_buy_hold_final_capital_test = simple_buy_hold_amount_test * test_df['Close'][-1]\n",
        "\n",
        "        # The Simple Buy and Hold comparison is already included in the simple strategy section,\n",
        "        # so we don't need to print it again here to avoid redundancy.\n",
        "        pass\n",
        "\n",
        "else:\n",
        "    print(\"Required variables (y_test_xgb_pred, y_test, test_df) not found or test_df is not a Polars DataFrame. Please run the model training and evaluation and data splitting cells.\")"
      ]
    },
    {
      "cell_type": "markdown",
      "metadata": {
        "id": "82ae3a10"
      },
      "source": [
        "## Summary:\n",
        "\n",
        "### Data Analysis Key Findings\n",
        "\n",
        "* The model evaluation on the hold-out test data (2025) shows that both the Logistic Regression and XGBoost models achieved an accuracy slightly above 50%.\n",
        "* The Logistic Regression model on the test data resulted in an accuracy of 0.5094. The classification report indicates a precision of 0.51 for predicting positive returns and a recall of 0.80.\n",
        "* The XGBoost model on the test data resulted in an accuracy of 0.5044. The classification report shows a precision of 0.51 for predicting positive returns and a recall of 0.64.\n",
        "* The simple Buy and Hold strategy over the test data period (2025) yielded a final capital of \\$66651.04 starting with \\$10000.00.\n",
        "* When using the **XGBoost** model's predictions on the test data:\n",
        "    * The Simple Buy strategy resulted in a final portfolio value of \\$43128.18 starting with \\$10000.00.\n",
        "    * The Momentum strategy resulted in a final portfolio value of \\$14629.15 starting with \\$10000.00.\n",
        "* When using the **Logistic Regression** model's predictions on the test data:\n",
        "    * The Simple Buy strategy resulted in a final portfolio value of \\$12320.00 starting with \\$10000.00.\n",
        "    * The Momentum strategy resulted in a final portfolio value of \\$10787.96 starting with \\$10000.00.\n",
        "\n",
        "### Insights or Next Steps\n",
        "\n",
        "* The performance of both models on the test data suggests that predicting the daily direction of Bitcoin price movements with high accuracy using these features is challenging. An accuracy slightly above 50% indicates the models perform only slightly better than random chance on unseen data.\n",
        "* Comparing the backtesting results, the Simple Buy and Hold strategy over the test period significantly outperformed both the Simple Buy and Momentum strategies that relied on the model predictions.\n",
        "* Between the two models, the XGBoost model's predictions led to higher final portfolio values for both the Simple Buy and Momentum strategies compared to the Logistic Regression model's predictions, although neither outperformed the simple Buy and Hold benchmark during this specific test period (2025).\n",
        "* Further research could explore:\n",
        "    * Incorporating additional features (e.g., sentiment data, macroeconomic indicators, on-chain analytics).\n",
        "    * Experimenting with different model architectures and hyperparameter tuning approaches.\n",
        "    * Optimizing the trading strategy rules (e.g., different buy/sell percentages, different lookback periods for momentum).\n",
        "    * Evaluating performance using other financial metrics (e.g., Sharpe ratio, maximum drawdown).\n",
        "    * Investigating if the models show profitability in different market regimes (e.g., bear markets, sideways markets)."
      ]
    },
    {
      "cell_type": "markdown",
      "metadata": {
        "id": "b2d2727a"
      },
      "source": [
        "## Summary:\n",
        "\n",
        "### Data Analysis Key Findings\n",
        "\n",
        "* The AUC score improved from 0.86 to 0.87-0.89 after including RSI and Volume features. Further increase the estimators to 500 greatly improved the score to 0.91. There may a risk of overfitting the XGClassifier model to data\n",
        "* The naive Buy and Hold strategy without using any prediction would work great (in hindsight) for Bitcoin since it has seen unprecedented upside since it launch. An initial investement of \\$10K in 2014 would yeild \\$3,025,950.44 in 2025.\n",
        "* An simple but slightly enhanced version of the Buy and Hold, where you buy a fixed amount of bitcoin, \\$250, each time on a generated buy signal would have yeild \\$4,108,172.17 in today's amount. Both these strategies are idealistic, but not unrealistic in the past 11 years of tremendous growth in Bitcoin value.\n",
        "* A simple buy and hold strategy over the same period yielded a significantly higher final capital of \\$862,469.05.\n",
        "* A more practical yet simple momentum-based strategy, where you would sell 10% of the holding after 3 consecutive days of dip in Bitcoin price, and buy 10% back when the momentum shifts to a buy (Trading Signal 1), would yeild \\$1,732,348.87. This is a more realistic and practical approach to investing.\n",
        "\n",
        "### Insights or Next Steps\n",
        "\n",
        "* Buy and hold would work the best of Bitcoin over past 11 years. However, that strategy may not have been realistic due to huge market speculations and fluctuations in Bitcoin price.\n",
        "* The trading strategies are profitable because Bitcoin prices have a huge upward graph. It may be worth building a mean reversal based strategy and see its performance against momentum-based strategies."
      ]
    },
    {
      "cell_type": "markdown",
      "metadata": {
        "id": "EgNXmSjMWwT2"
      },
      "source": [
        "## References\n",
        "\n",
        "* [yfinance GitHub](https://github.com/ranaroussi/yfinance)\n",
        "* [yfinance Documentation](https://ranaroussi.github.io/yfinance/)\n",
        "* [Polars Online User Guide](https://docs.pola.rs/)\n",
        "* [Build Polars Database](https://www.pyquantnews.com/free-python-resources/build-stock-database-locally-with-polars)\n",
        "* [YouTube. Polars and Time Series: What It Can Do, and How to Overcome Any Limitation](https://www.youtube.com/watch?v=qz-zAHBz6Ks)\n",
        "* [Awesome Quant: Python for Quantiative Finance](https://wilsonfreitas.github.io/awesome-quant/)\n",
        "* [Cross-validation](https://scikit-learn.org/stable/modules/cross_validation.html)\n",
        "* [TimeSeriesSplit](https://scikit-learn.org/stable/modules/generated/sklearn.model_selection.TimeSeriesSplit.html)\n",
        "* [RandomizedSearchCV](https://scikit-learn.org/stable/modules/generated/sklearn.model_selection.RandomizedSearchCV.html)\n",
        "* [Hyperparameter Tuning](https://scikit-learn.org/stable/modules/grid_search.html#grid-search)\n",
        "* [Metrics and Scoring](https://scikit-learn.org/stable/modules/model_evaluation.html#scoring-parameter)\n",
        "* [Introduction to Boosted Trees](https://xgboost.readthedocs.io/en/latest/tutorials/model.html)\n",
        "* [XGBoost documentation](https://xgboost.readthedocs.io/en/latest/index.html)\n",
        "* [XGBoost in Python documentation](https://xgboost-clone.readthedocs.io/en/latest/python/python_intro.html)\n",
        "* [Auto-Sklearn for AutoML in an Scikit-Learn Environment](https://www.automl.org/automl-for-x/tabular-data/auto-sklearn/)."
      ]
    }
  ],
  "metadata": {
    "colab": {
      "provenance": [],
      "include_colab_link": true
    },
    "kernelspec": {
      "display_name": "Python 3",
      "name": "python3"
    },
    "language_info": {
      "codemirror_mode": {
        "name": "ipython",
        "version": 3
      },
      "file_extension": ".py",
      "mimetype": "text/x-python",
      "name": "python",
      "nbconvert_exporter": "python",
      "pygments_lexer": "ipython3",
      "version": "3.12.0"
    },
    "nbTranslate": {
      "displayLangs": [
        "*"
      ],
      "hotkey": "alt-t",
      "langInMainMenu": true,
      "sourceLang": "en",
      "targetLang": "fr",
      "useGoogleTranslate": true
    },
    "toc": {
      "base_numbering": 1,
      "nav_menu": {},
      "number_sections": true,
      "sideBar": true,
      "skip_h1_title": true,
      "title_cell": "Table of Contents",
      "title_sidebar": "Contents",
      "toc_cell": false,
      "toc_position": {
        "height": "calc(100% - 180px)",
        "left": "10px",
        "top": "150px",
        "width": "341.331543px"
      },
      "toc_section_display": true,
      "toc_window_display": false
    },
    "toc-autonumbering": false,
    "toc-showtags": false,
    "varInspector": {
      "cols": {
        "lenName": 16,
        "lenType": 16,
        "lenVar": 40
      },
      "kernels_config": {
        "python": {
          "delete_cmd_postfix": "",
          "delete_cmd_prefix": "del ",
          "library": "var_list.py",
          "varRefreshCmd": "print(var_dic_list())"
        },
        "r": {
          "delete_cmd_postfix": ") ",
          "delete_cmd_prefix": "rm(",
          "library": "var_list.r",
          "varRefreshCmd": "cat(var_dic_list()) "
        }
      },
      "types_to_exclude": [
        "module",
        "function",
        "builtin_function_or_method",
        "instance",
        "_Feature"
      ],
      "window_display": false
    }
  },
  "nbformat": 4,
  "nbformat_minor": 0
}