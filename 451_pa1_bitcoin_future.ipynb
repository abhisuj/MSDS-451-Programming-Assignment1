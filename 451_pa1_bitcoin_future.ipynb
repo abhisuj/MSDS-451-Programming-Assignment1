{
  "cells": [
    {
      "cell_type": "markdown",
      "metadata": {
        "id": "view-in-github",
        "colab_type": "text"
      },
      "source": [
        "<a href=\"https://colab.research.google.com/github/abhisuj/MSDS-451-Programming-Assignment1/blob/main/451_pa1_bitcoin_future.ipynb\" target=\"_parent\"><img src=\"https://colab.research.google.com/assets/colab-badge.svg\" alt=\"Open In Colab\"/></a>"
      ]
    },
    {
      "cell_type": "markdown",
      "metadata": {
        "id": "if7Gx_qCWwTl"
      },
      "source": [
        "<h2><font color='#306998'><center>451 Financial Engineering: Programming Assignment 1</center></font></h2>\n",
        "<h3><center>Abhijit Joshi, Oct 5, 2025</center></h3>\n",
        "<h3><center>Original code - Thomas W. Miller, June 18, 2025</center></h3>\n",
        "---"
      ]
    },
    {
      "cell_type": "markdown",
      "metadata": {
        "id": "8e15b77b"
      },
      "source": [
        "## Overview\n",
        "We use machine learning classifiers, including tree-based ensemble boosting methods, to predict the direction of Bitcoin (BTC-USD) spot prices (up or down) using a number of lagged price features. In particular, we look at daily closing spot prices for Bitcoin (ticker BTC-USD) with lags of one to seven days, as well as features based on opening, closing, high, and low price points, and daily trading volume.\n",
        "\n",
        "A model for predicting the direction of daily returns sets the stage for testing the predictive utility of additional features. The domain of potential features or leading indicators is wide, including those associated with other price series, economic indicators, international events, securities filings, analyst and news reports, and media measures.\n",
        "\n",
        "In this notebook, we implemented and evaluated a trading strategy based on the predicted direction of Bitcoin spot prices. The strategy involves buying when the model predicts an upward movement and selling a portion of the holdings when it predicts a downward movement. We compared the performance of this strategy to a simple buy and hold approach."
      ]
    },
    {
      "cell_type": "markdown",
      "metadata": {
        "id": "HzR-GyoJWwTp",
        "tags": []
      },
      "source": [
        "### Import Libraries\n",
        "We draw on Python packages for data manipulation and modeling. Most important are Polars, a high-performance alternative to Pandas for data manipulation, and Scikit-Learn for machine learning study design and modeling algorithms."
      ]
    },
    {
      "cell_type": "code",
      "execution_count": 66,
      "metadata": {
        "id": "mL6cXf3mWwTq",
        "scrolled": true
      },
      "outputs": [],
      "source": [
        "import os\n",
        "# Ignore warnings\n",
        "import warnings\n",
        "warnings.filterwarnings('ignore')\n",
        "warnings.simplefilter(action='ignore', category=FutureWarning)\n",
        "\n",
        "# Import Python Packages for data manipulation, data pipelines, and databases\n",
        "import numpy as np\n",
        "import pyarrow # foundation for polars\n",
        "import polars as pl # DataFrame work superior to Pandas\n",
        "\n",
        "# Plotting\n",
        "import matplotlib.pyplot as plt\n",
        "# Display static plots directly in the notebook output\n",
        "%matplotlib inline\n",
        "# create stylized visualizations, including heat maps\n",
        "import seaborn as sns\n",
        "\n",
        "# Preprocessing\n",
        "from sklearn.preprocessing import MinMaxScaler, StandardScaler\n",
        "from sklearn.pipeline import Pipeline\n",
        "from sklearn.model_selection import (RandomizedSearchCV,\n",
        "                                    TimeSeriesSplit)\n",
        "from sklearn.model_selection import cross_validate\n",
        "\n",
        "# utilized in all possible subsets classification work\n",
        "from sklearn.linear_model import LogisticRegression\n",
        "from sklearn.metrics import log_loss\n",
        "\n",
        "# needed for randomized search\n",
        "from sklearn.model_selection import RandomizedSearchCV\n",
        "from scipy.stats import randint, uniform\n",
        "\n",
        "# metrics in xgboost tuning and final model evaluation\n",
        "from sklearn.metrics import (accuracy_score,\n",
        "                             classification_report,\n",
        "                             roc_curve,\n",
        "                             roc_auc_score,\n",
        "                             RocCurveDisplay,\n",
        "                             ConfusionMatrixDisplay,\n",
        "                             confusion_matrix,\n",
        "                             precision_score,\n",
        "                             recall_score,\n",
        "                             f1_score\n",
        "                            )\n",
        "\n",
        "# XGBoost Package... more complete than SciKit-Learn boosting methods\n",
        "import xgboost as xgb\n",
        "from xgboost import XGBRegressor, XGBClassifier, plot_importance\n",
        "\n",
        "import yfinance as yf\n",
        "\n",
        "import warnings\n",
        "# Suppress warnings for cleaner output\n",
        "warnings.filterwarnings('ignore')"
      ]
    },
    {
      "cell_type": "code",
      "execution_count": 67,
      "metadata": {
        "colab": {
          "base_uri": "https://localhost:8080/"
        },
        "id": "42939272",
        "outputId": "5dd90fde-1ecc-4a4e-d576-48002f607b4f"
      },
      "outputs": [
        {
          "output_type": "stream",
          "name": "stdout",
          "text": [
            "                                    Open           High            Low  \\\n",
            "Date                                                                     \n",
            "2014-09-17 00:00:00+00:00     465.864014     468.174011     452.421997   \n",
            "2014-09-18 00:00:00+00:00     456.859985     456.859985     413.104004   \n",
            "2014-09-19 00:00:00+00:00     424.102997     427.834991     384.532013   \n",
            "2014-09-20 00:00:00+00:00     394.673004     423.295990     389.882996   \n",
            "2014-09-21 00:00:00+00:00     408.084991     412.425995     393.181000   \n",
            "...                                  ...            ...            ...   \n",
            "2025-09-28 00:00:00+00:00  109681.945312  112375.484375  109236.945312   \n",
            "2025-09-29 00:00:00+00:00  112117.875000  114473.570312  111589.953125   \n",
            "2025-09-30 00:00:00+00:00  114396.523438  114836.617188  112740.562500   \n",
            "2025-10-01 00:00:00+00:00  114057.593750  118648.929688  113981.398438   \n",
            "2025-10-02 00:00:00+00:00  118652.382812  121086.406250  118383.156250   \n",
            "\n",
            "                                   Close       Volume  Dividends  Stock Splits  \n",
            "Date                                                                            \n",
            "2014-09-17 00:00:00+00:00     457.334015     21056800        0.0           0.0  \n",
            "2014-09-18 00:00:00+00:00     424.440002     34483200        0.0           0.0  \n",
            "2014-09-19 00:00:00+00:00     394.795990     37919700        0.0           0.0  \n",
            "2014-09-20 00:00:00+00:00     408.903992     36863600        0.0           0.0  \n",
            "2014-09-21 00:00:00+00:00     398.821014     26580100        0.0           0.0  \n",
            "...                                  ...          ...        ...           ...  \n",
            "2025-09-28 00:00:00+00:00  112122.640625  33371048505        0.0           0.0  \n",
            "2025-09-29 00:00:00+00:00  114400.382812  60000147466        0.0           0.0  \n",
            "2025-09-30 00:00:00+00:00  114056.085938  58986330258        0.0           0.0  \n",
            "2025-10-01 00:00:00+00:00  118648.929688  71328680132        0.0           0.0  \n",
            "2025-10-02 00:00:00+00:00  120681.257812  71415163912        0.0           0.0  \n",
            "\n",
            "[4034 rows x 7 columns]\n",
            "type of historical_data <class 'pandas.core.frame.DataFrame'>\n"
          ]
        }
      ],
      "source": [
        "# download bitcoin futures data from yfinance\n",
        "# Bitcoin started trading in September 2014. We will download data until the latest trading day\n",
        "symbol = 'BTC-USD'\n",
        "start_date = '2014-09-01'\n",
        "end_date = '2025-10-03'\n",
        "\n",
        "ticker = yf.Ticker(symbol)\n",
        "historical_data = ticker.history(start = start_date, end = end_date)\n",
        "print(historical_data)\n",
        "\n",
        "print(\"type of historical_data\", type(historical_data))\n",
        "\n",
        "historical_data.to_csv(\"btc_historical_data.csv\")"
      ]
    },
    {
      "cell_type": "markdown",
      "metadata": {
        "id": "Qhv1hV52WwTv"
      },
      "source": [
        "### Polars DataFrame Development\n",
        "The following code cell demonstrates Polars use with the time series DataFrame for our selected market/ticker, BTC."
      ]
    },
    {
      "cell_type": "code",
      "execution_count": 68,
      "metadata": {
        "colab": {
          "base_uri": "https://localhost:8080/"
        },
        "id": "cf27bcea",
        "outputId": "880bab13-95f4-47e5-9866-09062d4954ef"
      },
      "outputs": [
        {
          "output_type": "stream",
          "name": "stdout",
          "text": [
            "Schema({'Date': Datetime(time_unit='us', time_zone='UTC'), 'Open': Float64, 'High': Float64, 'Low': Float64, 'Close': Float64, 'Volume': Int64, 'Dividends': Float64, 'Stock Splits': Float64})\n",
            "Schema({'Date': Datetime(time_unit='us', time_zone='UTC'), 'Open': Float64, 'High': Float64, 'Low': Float64, 'Close': Float64, 'Volume': Float64, 'CloseLag1': Float64, 'CloseLag2': Float64, 'CloseLag3': Float64, 'HML': Float64, 'HMLLag1': Float64, 'HMLLag2': Float64, 'HMLLag3': Float64, 'OMC': Float64, 'OMCLag1': Float64, 'OMCLag2': Float64, 'OMCLag3': Float64, 'VolumeLag1': Float64, 'VolumeLag2': Float64, 'VolumeLag3': Float64, 'CloseEMA2': Float64, 'CloseEMA4': Float64, 'CloseEMA8': Float64, 'LogReturn': Float64, 'RSI_CloseLag1': Float64, 'RSI_CloseLag2': Float64, 'RSI_CloseLag3': Float64, 'Target': Int32})\n"
          ]
        }
      ],
      "source": [
        "btc = pl.read_csv(\"btc_historical_data.csv\", try_parse_dates=True)\n",
        "\n",
        "# check the original schema\n",
        "print(btc.schema)\n",
        "\n",
        "# drop useless columns Dividends and StockSplits\n",
        "btc = btc.drop(['Dividends', 'Stock Splits'])\n",
        "\n",
        "# create lag price features\n",
        "btc = btc.with_columns((pl.col('Close')).shift().alias('CloseLag1'))\n",
        "btc = btc.with_columns((pl.col('CloseLag1')).shift().alias('CloseLag2'))\n",
        "btc = btc.with_columns((pl.col('CloseLag2')).shift().alias('CloseLag3'))\n",
        "\n",
        "# create high-minus-low (HML) for day and its lags\n",
        "btc = btc.with_columns((pl.col('High') - pl.col('Low')).alias('HML'))\n",
        "btc = btc.with_columns((pl.col('HML')).shift().alias('HMLLag1'))\n",
        "btc = btc.with_columns((pl.col('HMLLag1')).shift().alias('HMLLag2'))\n",
        "btc = btc.with_columns((pl.col('HMLLag2')).shift().alias('HMLLag3'))\n",
        "\n",
        "# create a net change for the day as the open minus closing price OMC\n",
        "# also create the corresponding lag metrics\n",
        "btc = btc.with_columns((pl.col('Open') - pl.col('Close')).alias('OMC'))\n",
        "btc = btc.with_columns((pl.col('OMC')).shift().alias('OMCLag1'))\n",
        "btc = btc.with_columns((pl.col('OMCLag1')).shift().alias('OMCLag2'))\n",
        "btc = btc.with_columns((pl.col('OMCLag2')).shift().alias('OMCLag3'))\n",
        "\n",
        "# create volume lag metrics\n",
        "btc = btc.with_columns((pl.col('Volume')).shift().alias('VolumeLag1'))\n",
        "btc = btc.with_columns((pl.col('VolumeLag1')).shift().alias('VolumeLag2'))\n",
        "btc = btc.with_columns((pl.col('VolumeLag2')).shift().alias('VolumeLag3'))\n",
        "\n",
        "# compute 10-day exponential moving averages of closing prices\n",
        "# compute around CloseLag1 to avoid any \"leakage\" in explanatory variable set\n",
        "# note also the 10-day buffer between train and test in time-series cross-validation\n",
        "btc = btc.with_columns((pl.col('CloseLag1').ewm_mean(half_life=1,ignore_nulls=True)).alias('CloseEMA2'))\n",
        "btc = btc.with_columns((pl.col('CloseLag1').ewm_mean(half_life=2,ignore_nulls=True)).alias('CloseEMA4'))\n",
        "btc = btc.with_columns((pl.col('CloseLag1').ewm_mean(half_life=4,ignore_nulls=True)).alias('CloseEMA8'))\n",
        "\n",
        "# log daily returns\n",
        "btc = btc.with_columns(np.log(pl.col('Close')/pl.col('CloseLag1')).alias('LogReturn'))\n",
        "\n",
        "\n",
        "# Calculate RSI (Relative Strength Index) for CloseLag1, CloseLag2, and CloseLag3\n",
        "for lag in range(1, 4):\n",
        "    close_lag_col = f'CloseLag{lag}'\n",
        "    delta_col = f'delta_{lag}'\n",
        "    gain_col = f'gain_{lag}'\n",
        "    loss_col = f'loss_{lag}'\n",
        "    rs_col = f'rs_{lag}'\n",
        "    rsi_col = f\"RSI_CloseLag{lag}\"\n",
        "\n",
        "    btc = btc.with_columns([\n",
        "        pl.col(close_lag_col).diff(1).alias(delta_col)\n",
        "    ]).with_columns([\n",
        "        pl.when(pl.col(delta_col) > 0).then(pl.col(delta_col)).otherwise(0).alias(gain_col),\n",
        "        pl.when(pl.col(delta_col) < 0).then(-pl.col(delta_col)).otherwise(0).alias(loss_col)\n",
        "    ]).with_columns([\n",
        "         pl.col(gain_col).ewm_mean(span=14, adjust=False).alias(gain_col),\n",
        "         pl.col(loss_col).ewm_mean(span=14, adjust=False).alias(loss_col)\n",
        "    ]).with_columns([\n",
        "        (pl.col(gain_col) / pl.col(loss_col)).alias(rs_col)\n",
        "    ]).with_columns([\n",
        "        (100 - (100 / (1 + pl.col(rs_col)))).alias(rsi_col)\n",
        "    ])\n",
        "    # Drop the intermediate columns if desired\n",
        "    btc = btc.drop([delta_col, gain_col, loss_col, rs_col])\n",
        "\n",
        "\n",
        "# set volume features to Float64 for subsequent use in Numpy arrays\n",
        "btc = btc.with_columns(\n",
        "    pl.col('Volume').cast(pl.Float64).round(0),\n",
        "    pl.col('VolumeLag1').cast(pl.Float64).round(0),\n",
        "    pl.col('VolumeLag2').cast(pl.Float64).round(0),\n",
        "    pl.col('VolumeLag3').cast(pl.Float64).round(0),\n",
        "    )\n",
        "\n",
        "# round other features to three decimal places for reporting and subsequent analytics\n",
        "btc = btc.with_columns(\n",
        "    pl.col('Open').round(3),\n",
        "    pl.col('High').round(3),\n",
        "    pl.col('Low').round(3),\n",
        "    pl.col('Close').round(3),\n",
        "    pl.col('CloseLag1').round(3),\n",
        "    pl.col('CloseLag2').round(3),\n",
        "    pl.col('CloseLag3').round(3),\n",
        "    pl.col('HML').round(3),\n",
        "    pl.col('HMLLag1').round(3),\n",
        "    pl.col('HMLLag2').round(3),\n",
        "    pl.col('HMLLag3').round(3),\n",
        "    pl.col('OMC').round(3),\n",
        "    pl.col('OMCLag1').round(3),\n",
        "    pl.col('OMCLag2').round(3),\n",
        "    pl.col('OMCLag3').round(3),\n",
        "    pl.col('CloseEMA2').round(3),\n",
        "    pl.col('CloseEMA4').round(3),\n",
        "    pl.col('CloseEMA8').round(3),\n",
        "    pl.col('RSI_CloseLag1').round(3),\n",
        "    pl.col('RSI_CloseLag2').round(3),\n",
        "    pl.col('RSI_CloseLag3').round(3)\n",
        "    )\n",
        "\n",
        "# define binary target/response 1 = market price up since previous day, 0 = even or down\n",
        "btc = btc.with_columns(pl.when(pl.col('LogReturn')>0.0).then(pl.lit(1)).otherwise(pl.lit(0)).alias('Target'))\n",
        "\n",
        "print(btc.schema)\n",
        "\n",
        "# save to external comma-delimited text file for checking calculations in Excel\n",
        "btc.write_csv(\"btc-with-computed-features.csv\")"
      ]
    },
    {
      "cell_type": "markdown",
      "metadata": {
        "id": "duRy2x91f0H9"
      },
      "source": [
        "### Descriptive Statistics for Price Features"
      ]
    },
    {
      "cell_type": "code",
      "execution_count": 69,
      "metadata": {
        "colab": {
          "base_uri": "https://localhost:8080/"
        },
        "id": "e3c88f0f",
        "outputId": "e6ecace2-7b78-4375-eea6-ca561f297f35"
      },
      "outputs": [
        {
          "output_type": "stream",
          "name": "stdout",
          "text": [
            "['statistic', 'Open', 'High', 'Low', 'Close', 'Volume', 'CloseLag1', 'CloseLag2', 'CloseLag3', 'HML', 'HMLLag1', 'HMLLag2', 'HMLLag3', 'OMC', 'OMCLag1', 'OMCLag2', 'OMCLag3', 'VolumeLag1', 'VolumeLag2', 'VolumeLag3', 'CloseEMA2', 'CloseEMA4', 'CloseEMA8', 'LogReturn', 'RSI_CloseLag1', 'RSI_CloseLag2', 'RSI_CloseLag3', 'Target']\n",
            "Schema({'column': String, 'column_0': String, 'column_2': String, 'column_3': String, 'column_4': String, 'column_6': String, 'column_8': String})\n",
            "┌───────────────┬──────────┬───────────────────────┬────────────────────┬──────────────────────┬───────────────────────┬─────────────────────┐\n",
            "│ column        ┆ column_0 ┆ column_2              ┆ column_3           ┆ column_4             ┆ column_6              ┆ column_8            │\n",
            "╞═══════════════╪══════════╪═══════════════════════╪════════════════════╪══════════════════════╪═══════════════════════╪═════════════════════╡\n",
            "│ statistic     ┆ count    ┆ mean                  ┆ std                ┆ min                  ┆ 50%                   ┆ max                 │\n",
            "│ Open          ┆ 4030.0   ┆ 25226.50878337469     ┆ 29988.633419878402 ┆ 176.897              ┆ 10347.223             ┆ 123339.398          │\n",
            "│ High          ┆ 4030.0   ┆ 25743.590920099257    ┆ 30513.675424984554 ┆ 211.731              ┆ 10578.838             ┆ 124457.117          │\n",
            "│ Low           ┆ 4030.0   ┆ 24688.473481885852    ┆ 29450.467881421984 ┆ 171.51               ┆ 10119.095             ┆ 118959.195          │\n",
            "│ Close         ┆ 4030.0   ┆ 25255.251340694787    ┆ 30022.792618667223 ┆ 178.103              ┆ 10353.303             ┆ 123344.063          │\n",
            "│ Volume        ┆ 4030.0   ┆ 20722922971.742928    ┆ 21927315087.53289  ┆ 5914570.0            ┆ 16610726547.0         ┆ 350967941479.0      │\n",
            "│ CloseLag1     ┆ 4030.0   ┆ 25225.407084119102    ┆ 29987.66855645921  ┆ 178.103              ┆ 10347.713             ┆ 123344.063          │\n",
            "│ CloseLag2     ┆ 4030.0   ┆ 25196.063626550866    ┆ 29954.067360470104 ┆ 178.103              ┆ 10346.761             ┆ 123344.063          │\n",
            "│ CloseLag3     ┆ 4030.0   ┆ 25167.867188337466    ┆ 29923.867449065576 ┆ 178.103              ┆ 10345.811             ┆ 123344.063          │\n",
            "│ HML           ┆ 4030.0   ┆ 1055.117440198511     ┆ 1465.1869715948171 ┆ 1.028                ┆ 417.27                ┆ 12864.621           │\n",
            "│ HMLLag1       ┆ 4030.0   ┆ 1054.4549496277914    ┆ 1465.0451586903826 ┆ 1.028                ┆ 416.933               ┆ 12864.621           │\n",
            "│ HMLLag2       ┆ 4030.0   ┆ 1053.3074985111664    ┆ 1464.025163135434  ┆ 1.028                ┆ 416.742               ┆ 12864.621           │\n",
            "│ HMLLag3       ┆ 4030.0   ┆ 1052.7982431761789    ┆ 1464.0192995486304 ┆ 1.028                ┆ 416.44                ┆ 12864.621           │\n",
            "│ OMC           ┆ 4030.0   ┆ -28.742554342431777   ┆ 1065.2776444619833 ┆ -8230.07             ┆ -1.565                ┆ 8182.75             │\n",
            "│ OMCLag1       ┆ 4030.0   ┆ -28.24264267990074    ┆ 1064.8114050869667 ┆ -8230.07             ┆ -1.565                ┆ 8182.75             │\n",
            "│ OMCLag2       ┆ 4030.0   ┆ -27.096081141439292   ┆ 1062.3816866670638 ┆ -8230.07             ┆ -1.548                ┆ 8182.75             │\n",
            "│ OMCLag3       ┆ 4030.0   ┆ -27.172512406947956   ┆ 1062.3663182898667 ┆ -8230.07             ┆ -1.548                ┆ 8182.75             │\n",
            "│ VolumeLag1    ┆ 4030.0   ┆ 20705211234.692802    ┆ 21915182857.041775 ┆ 5914570.0            ┆ 16610070933.0         ┆ 350967941479.0      │\n",
            "│ VolumeLag2    ┆ 4030.0   ┆ 20687521219.69727     ┆ 21903079004.76077  ┆ 5914570.0            ┆ 16588370958.0         ┆ 350967941479.0      │\n",
            "│ VolumeLag3    ┆ 4030.0   ┆ 20672892969.80695     ┆ 21897179385.364185 ┆ 5914570.0            ┆ 16555616019.0         ┆ 350967941479.0      │\n",
            "│ CloseEMA2     ┆ 4030.0   ┆ 25196.71906600496     ┆ 29944.089431218938 ┆ 204.533              ┆ 10366.035             ┆ 121291.18           │\n",
            "│ CloseEMA4     ┆ 4030.0   ┆ 25157.061830272953    ┆ 29888.975757700202 ┆ 213.531              ┆ 10370.045             ┆ 119778.23           │\n",
            "│ CloseEMA8     ┆ 4030.0   ┆ 25076.726467741933    ┆ 29777.64228278011  ┆ 224.11               ┆ 10328.345             ┆ 118350.523          │\n",
            "│ LogReturn     ┆ 4030.0   ┆ 0.0014112723887250518 ┆ 0.0356251724562473 ┆ -0.46473017533977296 ┆ 0.0012662095917030135 ┆ 0.22511895434132784 │\n",
            "│ RSI_CloseLag1 ┆ 4030.0   ┆ 53.60135136476428     ┆ 17.7130950411013   ┆ 5.664                ┆ 52.356                ┆ 98.787              │\n",
            "│ RSI_CloseLag2 ┆ 4030.0   ┆ 53.583545161290324    ┆ 17.730896571295002 ┆ 0.0                  ┆ 52.348                ┆ 98.787              │\n",
            "│ RSI_CloseLag3 ┆ 4030.0   ┆ 53.569526302729535    ┆ 17.75091613981118  ┆ 0.0                  ┆ 52.334                ┆ 98.787              │\n",
            "│ Target        ┆ 4030.0   ┆ 0.5272952853598015    ┆ 0.4993163652596803 ┆ 0.0                  ┆ 1.0                   ┆ 1.0                 │\n",
            "└───────────────┴──────────┴───────────────────────┴────────────────────┴──────────────────────┴───────────────────────┴─────────────────────┘\n"
          ]
        }
      ],
      "source": [
        "# Drop the rows with null values such as the initial lag rows\n",
        "btc = btc.drop_nulls()\n",
        "\n",
        "btc = btc.filter(~pl.col(\"RSI_CloseLag3\").is_nan())\n",
        "\n",
        "# Descriptive statistics\n",
        "btcStatistics = btc.drop('Date').describe()\n",
        "\n",
        "print(btcStatistics.columns)\n",
        "\n",
        "btcStatisticsToPrint = btcStatistics.transpose(include_header=True).drop(['column_1', 'column_5', 'column_7'])\n",
        "\n",
        "print(btcStatisticsToPrint.schema)\n",
        "\n",
        "with pl.Config(\n",
        "    tbl_rows = 60,\n",
        "    tbl_width_chars = 200,\n",
        "    tbl_cols = -1,\n",
        "    float_precision = 3,\n",
        "    tbl_hide_dataframe_shape = True,\n",
        "    tbl_hide_column_data_types = True):\n",
        "    print(btcStatisticsToPrint)"
      ]
    },
    {
      "cell_type": "markdown",
      "metadata": {
        "id": "2P0ItWIwWwTw"
      },
      "source": [
        "### Feature List\n",
        "Features or explanatory variables, also known as an independent variables, are used to predict the values of target variables. The initial list of featrues includes the price-based features defined above, everything except the continuous response **LogReturn** if we wanted to employ regression and the binary response **Target** for classification, which is the focus of this project. This complete feature list is used in evaluating all methods."
      ]
    },
    {
      "cell_type": "code",
      "execution_count": 70,
      "metadata": {
        "colab": {
          "base_uri": "https://localhost:8080/",
          "height": 275
        },
        "id": "C9Q8BVHUWwTx",
        "outputId": "45774dbe-9016-4d23-ce35-f36476711a97"
      },
      "outputs": [
        {
          "output_type": "execute_result",
          "data": {
            "text/plain": [
              "shape: (5, 18)\n",
              "┌───────────┬───────────┬───────────┬─────────┬───┬───────────┬────────────┬───────────┬───────────┐\n",
              "│ CloseLag1 ┆ CloseLag2 ┆ CloseLag3 ┆ HMLLag1 ┆ … ┆ CloseEMA8 ┆ RSI_CloseL ┆ RSI_Close ┆ RSI_Close │\n",
              "│ ---       ┆ ---       ┆ ---       ┆ ---     ┆   ┆ ---       ┆ ag1        ┆ Lag2      ┆ Lag3      │\n",
              "│ f64       ┆ f64       ┆ f64       ┆ f64     ┆   ┆ f64       ┆ ---        ┆ ---       ┆ ---       │\n",
              "│           ┆           ┆           ┆         ┆   ┆           ┆ f64        ┆ f64       ┆ f64       │\n",
              "╞═══════════╪═══════════╪═══════════╪═════════╪═══╪═══════════╪════════════╪═══════════╪═══════════╡\n",
              "│ 408.904   ┆ 394.796   ┆ 424.44    ┆ 33.413  ┆ … ┆ 417.788   ┆ 21.871     ┆ 0.0       ┆ 0.0       │\n",
              "│ 398.821   ┆ 408.904   ┆ 394.796   ┆ 19.245  ┆ … ┆ 412.581   ┆ 18.529     ┆ 21.871    ┆ 0.0       │\n",
              "│ 402.152   ┆ 398.821   ┆ 408.904   ┆ 9.786   ┆ … ┆ 410.014   ┆ 23.013     ┆ 18.529    ┆ 21.871    │\n",
              "│ 435.791   ┆ 402.152   ┆ 398.821   ┆ 45.36   ┆ … ┆ 415.851   ┆ 53.095     ┆ 23.013    ┆ 18.529    │\n",
              "│ 423.205   ┆ 435.791   ┆ 402.152   ┆ 14.98   ┆ … ┆ 417.411   ┆ 45.431     ┆ 53.095    ┆ 23.013    │\n",
              "└───────────┴───────────┴───────────┴─────────┴───┴───────────┴────────────┴───────────┴───────────┘"
            ],
            "text/html": [
              "<div><style>\n",
              ".dataframe > thead > tr,\n",
              ".dataframe > tbody > tr {\n",
              "  text-align: right;\n",
              "  white-space: pre-wrap;\n",
              "}\n",
              "</style>\n",
              "<small>shape: (5, 18)</small><table border=\"1\" class=\"dataframe\"><thead><tr><th>CloseLag1</th><th>CloseLag2</th><th>CloseLag3</th><th>HMLLag1</th><th>HMLLag2</th><th>HMLLag3</th><th>OMCLag1</th><th>OMCLag2</th><th>OMCLag3</th><th>VolumeLag1</th><th>VolumeLag2</th><th>VolumeLag3</th><th>CloseEMA2</th><th>CloseEMA4</th><th>CloseEMA8</th><th>RSI_CloseLag1</th><th>RSI_CloseLag2</th><th>RSI_CloseLag3</th></tr><tr><td>f64</td><td>f64</td><td>f64</td><td>f64</td><td>f64</td><td>f64</td><td>f64</td><td>f64</td><td>f64</td><td>f64</td><td>f64</td><td>f64</td><td>f64</td><td>f64</td><td>f64</td><td>f64</td><td>f64</td><td>f64</td></tr></thead><tbody><tr><td>408.904</td><td>394.796</td><td>424.44</td><td>33.413</td><td>43.303</td><td>43.756</td><td>-14.231</td><td>29.307</td><td>32.42</td><td>3.68636e7</td><td>3.79197e7</td><td>3.44832e7</td><td>410.442</td><td>414.729</td><td>417.788</td><td>21.871</td><td>0.0</td><td>0.0</td></tr><tr><td>398.821</td><td>408.904</td><td>394.796</td><td>19.245</td><td>33.413</td><td>43.303</td><td>9.264</td><td>-14.231</td><td>29.307</td><td>2.65801e7</td><td>3.68636e7</td><td>3.79197e7</td><td>404.444</td><td>409.069</td><td>412.581</td><td>18.529</td><td>21.871</td><td>0.0</td></tr><tr><td>402.152</td><td>398.821</td><td>408.904</td><td>9.786</td><td>19.245</td><td>33.413</td><td>-3.052</td><td>9.264</td><td>-14.231</td><td>2.41276e7</td><td>2.65801e7</td><td>3.68636e7</td><td>403.28</td><td>406.754</td><td>410.014</td><td>23.013</td><td>18.529</td><td>21.871</td></tr><tr><td>435.791</td><td>402.152</td><td>398.821</td><td>45.36</td><td>9.786</td><td>19.245</td><td>-33.699</td><td>-3.052</td><td>9.264</td><td>4.50995e7</td><td>2.41276e7</td><td>2.65801e7</td><td>419.663</td><td>416.083</td><td>415.851</td><td>53.095</td><td>23.013</td><td>18.529</td></tr><tr><td>423.205</td><td>435.791</td><td>402.152</td><td>14.98</td><td>45.36</td><td>9.786</td><td>12.546</td><td>-33.699</td><td>-3.052</td><td>3.06277e7</td><td>4.50995e7</td><td>2.41276e7</td><td>421.441</td><td>418.308</td><td>417.411</td><td>45.431</td><td>53.095</td><td>23.013</td></tr></tbody></table></div>"
            ]
          },
          "metadata": {},
          "execution_count": 70
        }
      ],
      "source": [
        "# Select Features for the Model, exclude current day price variables ... no \"leakage\"\n",
        "# note for moving averages, we have excluded the current day, and provide a 10-day gap\n",
        "# so these may be included in the set\n",
        "X = btc.drop(['Date', 'LogReturn', 'Target', 'Open', 'High', 'Low', 'Close', 'Volume', 'HML', 'OMC'])\n",
        "X.head()"
      ]
    },
    {
      "cell_type": "markdown",
      "metadata": {
        "id": "BJ_YZOASWwTx"
      },
      "source": [
        "### Examine the Distribution of LogReturn Values"
      ]
    },
    {
      "cell_type": "code",
      "execution_count": 71,
      "metadata": {
        "colab": {
          "base_uri": "https://localhost:8080/"
        },
        "id": "PyfP-99aWwTx",
        "outputId": "1b28e806-9f09-45f1-d13f-88cf4ca20619"
      },
      "outputs": [
        {
          "output_type": "stream",
          "name": "stdout",
          "text": [
            "shape: (9, 2)\n",
            "┌────────────┬───────────┐\n",
            "│ statistic  ┆ value     │\n",
            "│ ---        ┆ ---       │\n",
            "│ str        ┆ f64       │\n",
            "╞════════════╪═══════════╡\n",
            "│ count      ┆ 4030.0    │\n",
            "│ null_count ┆ 0.0       │\n",
            "│ mean       ┆ 0.001411  │\n",
            "│ std        ┆ 0.035625  │\n",
            "│ min        ┆ -0.46473  │\n",
            "│ 25%        ┆ -0.012389 │\n",
            "│ 50%        ┆ 0.001266  │\n",
            "│ 75%        ┆ 0.016137  │\n",
            "│ max        ┆ 0.225119  │\n",
            "└────────────┴───────────┘\n"
          ]
        }
      ],
      "source": [
        "# Define and examine the target for regression model development\n",
        "print(btc['LogReturn'].describe())\n",
        "\n",
        "y = np.array(btc['LogReturn'])"
      ]
    },
    {
      "cell_type": "markdown",
      "metadata": {
        "id": "iuLNNWxvWwTx"
      },
      "source": [
        "### Standardize All Features\n",
        "Standardization is carried out for the complete set of features."
      ]
    },
    {
      "cell_type": "code",
      "execution_count": 72,
      "metadata": {
        "colab": {
          "base_uri": "https://localhost:8080/"
        },
        "id": "mKjHtUi_WwTx",
        "outputId": "0e8e7780-2c3c-4128-f221-e3876f56188b"
      },
      "outputs": [
        {
          "output_type": "stream",
          "name": "stdout",
          "text": [
            "Feature names correspond to Numpy array columns: ['CloseLag1', 'CloseLag2', 'CloseLag3', 'HMLLag1', 'HMLLag2', 'HMLLag3', 'OMCLag1', 'OMCLag2', 'OMCLag3', 'VolumeLag1', 'VolumeLag2', 'VolumeLag3', 'CloseEMA2', 'CloseEMA4', 'CloseEMA8', 'RSI_CloseLag1', 'RSI_CloseLag2', 'RSI_CloseLag3']\n"
          ]
        }
      ],
      "source": [
        "# Standardize features\n",
        "featureNames = X.columns\n",
        "print(\"Feature names correspond to Numpy array columns:\",featureNames)\n",
        "scaler = StandardScaler()\n",
        "X = scaler.fit_transform(np.array(X))"
      ]
    },
    {
      "cell_type": "code",
      "metadata": {
        "colab": {
          "base_uri": "https://localhost:8080/"
        },
        "id": "C9Q8BVHUwTz",
        "outputId": "dc4ca29e-19d3-4ab0-daf2-0e3d6a6557e0"
      },
      "source": [
        "# Select Features for the Model, exclude current day price variables ... no \"leakage\"\n",
        "# note for moving averages, we have excluded the current day, and provide a 10-day gap\n",
        "# so these may be included in the set\n",
        "X = btc.drop(['Date', 'LogReturn', 'Target', 'Open', 'High', 'Low', 'Close', 'Volume', 'HML', 'OMC'])\n",
        "# Convert to numpy array before standardization\n",
        "X_np = np.array(X)\n",
        "featureNames = X.columns # Keep track of feature names before standardization\n",
        "\n",
        "# Standardize features\n",
        "scaler = StandardScaler()\n",
        "X_scaled = scaler.fit_transform(X_np)\n",
        "\n",
        "print(\"Feature names corresponding to standardized Numpy array columns:\", featureNames)\n",
        "print(\"Shape of standardized features:\", X_scaled.shape)"
      ],
      "execution_count": 73,
      "outputs": [
        {
          "output_type": "stream",
          "name": "stdout",
          "text": [
            "Feature names corresponding to standardized Numpy array columns: ['CloseLag1', 'CloseLag2', 'CloseLag3', 'HMLLag1', 'HMLLag2', 'HMLLag3', 'OMCLag1', 'OMCLag2', 'OMCLag3', 'VolumeLag1', 'VolumeLag2', 'VolumeLag3', 'CloseEMA2', 'CloseEMA4', 'CloseEMA8', 'RSI_CloseLag1', 'RSI_CloseLag2', 'RSI_CloseLag3']\n",
            "Shape of standardized features: (4030, 18)\n"
          ]
        }
      ]
    },
    {
      "cell_type": "markdown",
      "metadata": {
        "id": "wbtPk1rGWwTy"
      },
      "source": [
        "### Target Definition for Classification (Target)\n",
        "\n",
        "Identify the binary target variable for model development."
      ]
    },
    {
      "cell_type": "code",
      "execution_count": 74,
      "metadata": {
        "colab": {
          "base_uri": "https://localhost:8080/"
        },
        "id": "WQhUBdmyWwTy",
        "outputId": "abe8e1f0-171a-4156-bdf9-f2ac4d90005c"
      },
      "outputs": [
        {
          "output_type": "stream",
          "name": "stdout",
          "text": [
            "shape: (2, 2)\n",
            "┌────────┬───────┐\n",
            "│ Target ┆ count │\n",
            "│ ---    ┆ ---   │\n",
            "│ i32    ┆ u32   │\n",
            "╞════════╪═══════╡\n",
            "│ 0      ┆ 1905  │\n",
            "│ 1      ┆ 2125  │\n",
            "└────────┴───────┘\n"
          ]
        }
      ],
      "source": [
        "# Define and examine the target for classification model development\n",
        "print(btc['Target'].value_counts())\n",
        "\n",
        "y = np.array(btc['Target'])"
      ]
    },
    {
      "cell_type": "markdown",
      "metadata": {
        "id": "taoNgZZtWwTy"
      },
      "source": [
        "### Feature Selection Using All Possible Classifications\n",
        "We draw on traditional applied statistis, selecting the best combination of features using the Akaike Information Criterion (AIC)."
      ]
    },
    {
      "cell_type": "code",
      "execution_count": 33,
      "metadata": {
        "id": "EGK36AcHWwTy",
        "colab": {
          "base_uri": "https://localhost:8080/",
          "height": 269
        },
        "outputId": "588dbee4-ec45-412c-d49b-6332ae5435d4"
      },
      "outputs": [
        {
          "output_type": "error",
          "ename": "KeyboardInterrupt",
          "evalue": "",
          "traceback": [
            "\u001b[0;31m---------------------------------------------------------------------------\u001b[0m",
            "\u001b[0;31mKeyboardInterrupt\u001b[0m                         Traceback (most recent call last)",
            "\u001b[0;32m/tmp/ipython-input-3788539395.py\u001b[0m in \u001b[0;36m<cell line: 0>\u001b[0;34m()\u001b[0m\n\u001b[1;32m     25\u001b[0m     \u001b[0mtrialNumber\u001b[0m \u001b[0;34m=\u001b[0m \u001b[0mtrialNumber\u001b[0m \u001b[0;34m+\u001b[0m \u001b[0;36m1\u001b[0m\u001b[0;34m\u001b[0m\u001b[0;34m\u001b[0m\u001b[0m\n\u001b[1;32m     26\u001b[0m     \u001b[0;31m# print(c)\u001b[0m\u001b[0;34m\u001b[0m\u001b[0;34m\u001b[0m\u001b[0m\n\u001b[0;32m---> 27\u001b[0;31m     \u001b[0mthisAIC\u001b[0m \u001b[0;34m=\u001b[0m \u001b[0mgetAIC\u001b[0m\u001b[0;34m(\u001b[0m\u001b[0mX\u001b[0m\u001b[0;34m[\u001b[0m\u001b[0;34m:\u001b[0m\u001b[0;34m,\u001b[0m\u001b[0mc\u001b[0m\u001b[0;34m]\u001b[0m\u001b[0;34m,\u001b[0m \u001b[0my\u001b[0m\u001b[0;34m)\u001b[0m\u001b[0;34m\u001b[0m\u001b[0;34m\u001b[0m\u001b[0m\n\u001b[0m\u001b[1;32m     28\u001b[0m     thisTrialDataFrame = pl.DataFrame({\"trialNumber\": trialNumber,\n\u001b[1;32m     29\u001b[0m                                        \u001b[0;34m\"features\"\u001b[0m\u001b[0;34m:\u001b[0m \u001b[0;34m' '\u001b[0m\u001b[0;34m.\u001b[0m\u001b[0mjoin\u001b[0m\u001b[0;34m(\u001b[0m\u001b[0mmap\u001b[0m\u001b[0;34m(\u001b[0m\u001b[0mstr\u001b[0m\u001b[0;34m,\u001b[0m \u001b[0mc\u001b[0m\u001b[0;34m)\u001b[0m\u001b[0;34m)\u001b[0m\u001b[0;34m,\u001b[0m\u001b[0;34m\u001b[0m\u001b[0;34m\u001b[0m\u001b[0m\n",
            "\u001b[0;32m/tmp/ipython-input-3788539395.py\u001b[0m in \u001b[0;36mgetAIC\u001b[0;34m(X, y)\u001b[0m\n\u001b[1;32m      7\u001b[0m     \u001b[0mmodel\u001b[0m\u001b[0;34m.\u001b[0m\u001b[0mfit\u001b[0m\u001b[0;34m(\u001b[0m\u001b[0mX\u001b[0m\u001b[0;34m,\u001b[0m \u001b[0my\u001b[0m\u001b[0;34m)\u001b[0m\u001b[0;34m\u001b[0m\u001b[0;34m\u001b[0m\u001b[0m\n\u001b[1;32m      8\u001b[0m     \u001b[0;31m# Calculate log-likelihood\u001b[0m\u001b[0;34m\u001b[0m\u001b[0;34m\u001b[0m\u001b[0m\n\u001b[0;32m----> 9\u001b[0;31m     \u001b[0mloglik\u001b[0m \u001b[0;34m=\u001b[0m \u001b[0;34m-\u001b[0m\u001b[0mlog_loss\u001b[0m\u001b[0;34m(\u001b[0m\u001b[0my\u001b[0m\u001b[0;34m,\u001b[0m \u001b[0mmodel\u001b[0m\u001b[0;34m.\u001b[0m\u001b[0mpredict_proba\u001b[0m\u001b[0;34m(\u001b[0m\u001b[0mX\u001b[0m\u001b[0;34m)\u001b[0m\u001b[0;34m)\u001b[0m \u001b[0;34m*\u001b[0m \u001b[0mlen\u001b[0m\u001b[0;34m(\u001b[0m\u001b[0my\u001b[0m\u001b[0;34m)\u001b[0m\u001b[0;34m\u001b[0m\u001b[0;34m\u001b[0m\u001b[0m\n\u001b[0m\u001b[1;32m     10\u001b[0m     \u001b[0;31m# Calculate the number of parameters\u001b[0m\u001b[0;34m\u001b[0m\u001b[0;34m\u001b[0m\u001b[0m\n\u001b[1;32m     11\u001b[0m     \u001b[0mk\u001b[0m \u001b[0;34m=\u001b[0m \u001b[0mX\u001b[0m\u001b[0;34m.\u001b[0m\u001b[0mshape\u001b[0m\u001b[0;34m[\u001b[0m\u001b[0;36m1\u001b[0m\u001b[0;34m]\u001b[0m \u001b[0;34m+\u001b[0m \u001b[0;36m1\u001b[0m\u001b[0;34m\u001b[0m\u001b[0;34m\u001b[0m\u001b[0m\n",
            "\u001b[0;32m/usr/local/lib/python3.12/dist-packages/sklearn/utils/_param_validation.py\u001b[0m in \u001b[0;36mwrapper\u001b[0;34m(*args, **kwargs)\u001b[0m\n\u001b[1;32m    214\u001b[0m                     )\n\u001b[1;32m    215\u001b[0m                 ):\n\u001b[0;32m--> 216\u001b[0;31m                     \u001b[0;32mreturn\u001b[0m \u001b[0mfunc\u001b[0m\u001b[0;34m(\u001b[0m\u001b[0;34m*\u001b[0m\u001b[0margs\u001b[0m\u001b[0;34m,\u001b[0m \u001b[0;34m**\u001b[0m\u001b[0mkwargs\u001b[0m\u001b[0;34m)\u001b[0m\u001b[0;34m\u001b[0m\u001b[0;34m\u001b[0m\u001b[0m\n\u001b[0m\u001b[1;32m    217\u001b[0m             \u001b[0;32mexcept\u001b[0m \u001b[0mInvalidParameterError\u001b[0m \u001b[0;32mas\u001b[0m \u001b[0me\u001b[0m\u001b[0;34m:\u001b[0m\u001b[0;34m\u001b[0m\u001b[0;34m\u001b[0m\u001b[0m\n\u001b[1;32m    218\u001b[0m                 \u001b[0;31m# When the function is just a wrapper around an estimator, we allow\u001b[0m\u001b[0;34m\u001b[0m\u001b[0;34m\u001b[0m\u001b[0m\n",
            "\u001b[0;32m/usr/local/lib/python3.12/dist-packages/sklearn/metrics/_classification.py\u001b[0m in \u001b[0;36mlog_loss\u001b[0;34m(y_true, y_pred, normalize, sample_weight, labels)\u001b[0m\n\u001b[1;32m   3029\u001b[0m     \u001b[0mloss\u001b[0m \u001b[0;34m=\u001b[0m \u001b[0;34m-\u001b[0m\u001b[0mxlogy\u001b[0m\u001b[0;34m(\u001b[0m\u001b[0mtransformed_labels\u001b[0m\u001b[0;34m,\u001b[0m \u001b[0my_pred\u001b[0m\u001b[0;34m)\u001b[0m\u001b[0;34m.\u001b[0m\u001b[0msum\u001b[0m\u001b[0;34m(\u001b[0m\u001b[0maxis\u001b[0m\u001b[0;34m=\u001b[0m\u001b[0;36m1\u001b[0m\u001b[0;34m)\u001b[0m\u001b[0;34m\u001b[0m\u001b[0;34m\u001b[0m\u001b[0m\n\u001b[1;32m   3030\u001b[0m \u001b[0;34m\u001b[0m\u001b[0m\n\u001b[0;32m-> 3031\u001b[0;31m     \u001b[0;32mreturn\u001b[0m \u001b[0mfloat\u001b[0m\u001b[0;34m(\u001b[0m\u001b[0m_average\u001b[0m\u001b[0;34m(\u001b[0m\u001b[0mloss\u001b[0m\u001b[0;34m,\u001b[0m \u001b[0mweights\u001b[0m\u001b[0;34m=\u001b[0m\u001b[0msample_weight\u001b[0m\u001b[0;34m,\u001b[0m \u001b[0mnormalize\u001b[0m\u001b[0;34m=\u001b[0m\u001b[0mnormalize\u001b[0m\u001b[0;34m)\u001b[0m\u001b[0;34m)\u001b[0m\u001b[0;34m\u001b[0m\u001b[0;34m\u001b[0m\u001b[0m\n\u001b[0m\u001b[1;32m   3032\u001b[0m \u001b[0;34m\u001b[0m\u001b[0m\n\u001b[1;32m   3033\u001b[0m \u001b[0;34m\u001b[0m\u001b[0m\n",
            "\u001b[0;32m/usr/local/lib/python3.12/dist-packages/sklearn/utils/_array_api.py\u001b[0m in \u001b[0;36m_average\u001b[0;34m(a, axis, weights, normalize, xp)\u001b[0m\n\u001b[1;32m    710\u001b[0m     \u001b[0monly\u001b[0m \u001b[0;32mfor\u001b[0m \u001b[0mthe\u001b[0m \u001b[0mcommon\u001b[0m \u001b[0mcases\u001b[0m \u001b[0mneeded\u001b[0m \u001b[0;32min\u001b[0m \u001b[0mscikit\u001b[0m\u001b[0;34m-\u001b[0m\u001b[0mlearn\u001b[0m\u001b[0;34m.\u001b[0m\u001b[0;34m\u001b[0m\u001b[0;34m\u001b[0m\u001b[0m\n\u001b[1;32m    711\u001b[0m     \"\"\"\n\u001b[0;32m--> 712\u001b[0;31m     \u001b[0mxp\u001b[0m\u001b[0;34m,\u001b[0m \u001b[0m_\u001b[0m\u001b[0;34m,\u001b[0m \u001b[0mdevice_\u001b[0m \u001b[0;34m=\u001b[0m \u001b[0mget_namespace_and_device\u001b[0m\u001b[0;34m(\u001b[0m\u001b[0ma\u001b[0m\u001b[0;34m,\u001b[0m \u001b[0mweights\u001b[0m\u001b[0;34m)\u001b[0m\u001b[0;34m\u001b[0m\u001b[0;34m\u001b[0m\u001b[0m\n\u001b[0m\u001b[1;32m    713\u001b[0m \u001b[0;34m\u001b[0m\u001b[0m\n\u001b[1;32m    714\u001b[0m     \u001b[0;32mif\u001b[0m \u001b[0m_is_numpy_namespace\u001b[0m\u001b[0;34m(\u001b[0m\u001b[0mxp\u001b[0m\u001b[0;34m)\u001b[0m\u001b[0;34m:\u001b[0m\u001b[0;34m\u001b[0m\u001b[0;34m\u001b[0m\u001b[0m\n",
            "\u001b[0;32m/usr/local/lib/python3.12/dist-packages/sklearn/utils/_array_api.py\u001b[0m in \u001b[0;36mget_namespace_and_device\u001b[0;34m(remove_none, remove_types, *array_list)\u001b[0m\n\u001b[1;32m    610\u001b[0m         \u001b[0;31m`\u001b[0m\u001b[0mdevice\u001b[0m\u001b[0;31m`\u001b[0m \u001b[0mobject\u001b[0m \u001b[0;34m(\u001b[0m\u001b[0msee\u001b[0m \u001b[0mthe\u001b[0m \u001b[0;34m\"Device Support\"\u001b[0m \u001b[0msection\u001b[0m \u001b[0mof\u001b[0m \u001b[0mthe\u001b[0m \u001b[0marray\u001b[0m \u001b[0mAPI\u001b[0m \u001b[0mspec\u001b[0m\u001b[0;34m)\u001b[0m\u001b[0;34m.\u001b[0m\u001b[0;34m\u001b[0m\u001b[0;34m\u001b[0m\u001b[0m\n\u001b[1;32m    611\u001b[0m     \"\"\"\n\u001b[0;32m--> 612\u001b[0;31m     array_list = _remove_non_arrays(\n\u001b[0m\u001b[1;32m    613\u001b[0m         \u001b[0;34m*\u001b[0m\u001b[0marray_list\u001b[0m\u001b[0;34m,\u001b[0m\u001b[0;34m\u001b[0m\u001b[0;34m\u001b[0m\u001b[0m\n\u001b[1;32m    614\u001b[0m         \u001b[0mremove_none\u001b[0m\u001b[0;34m=\u001b[0m\u001b[0mremove_none\u001b[0m\u001b[0;34m,\u001b[0m\u001b[0;34m\u001b[0m\u001b[0;34m\u001b[0m\u001b[0m\n",
            "\u001b[0;32m/usr/local/lib/python3.12/dist-packages/sklearn/utils/_array_api.py\u001b[0m in \u001b[0;36m_remove_non_arrays\u001b[0;34m(remove_none, remove_types, *arrays)\u001b[0m\n\u001b[1;32m    488\u001b[0m         \u001b[0;32mif\u001b[0m \u001b[0misinstance\u001b[0m\u001b[0;34m(\u001b[0m\u001b[0marray\u001b[0m\u001b[0;34m,\u001b[0m \u001b[0mremove_types\u001b[0m\u001b[0;34m)\u001b[0m\u001b[0;34m:\u001b[0m\u001b[0;34m\u001b[0m\u001b[0;34m\u001b[0m\u001b[0m\n\u001b[1;32m    489\u001b[0m             \u001b[0;32mcontinue\u001b[0m\u001b[0;34m\u001b[0m\u001b[0;34m\u001b[0m\u001b[0m\n\u001b[0;32m--> 490\u001b[0;31m         \u001b[0;32mif\u001b[0m \u001b[0msp\u001b[0m\u001b[0;34m.\u001b[0m\u001b[0missparse\u001b[0m\u001b[0;34m(\u001b[0m\u001b[0marray\u001b[0m\u001b[0;34m)\u001b[0m\u001b[0;34m:\u001b[0m\u001b[0;34m\u001b[0m\u001b[0;34m\u001b[0m\u001b[0m\n\u001b[0m\u001b[1;32m    491\u001b[0m             \u001b[0;32mcontinue\u001b[0m\u001b[0;34m\u001b[0m\u001b[0;34m\u001b[0m\u001b[0m\n\u001b[1;32m    492\u001b[0m         \u001b[0mfiltered_arrays\u001b[0m\u001b[0;34m.\u001b[0m\u001b[0mappend\u001b[0m\u001b[0;34m(\u001b[0m\u001b[0marray\u001b[0m\u001b[0;34m)\u001b[0m\u001b[0;34m\u001b[0m\u001b[0;34m\u001b[0m\u001b[0m\n",
            "\u001b[0;32m/usr/local/lib/python3.12/dist-packages/scipy/_lib/_sparse.py\u001b[0m in \u001b[0;36missparse\u001b[0;34m(x)\u001b[0m\n\u001b[1;32m     39\u001b[0m     \u001b[0;32mFalse\u001b[0m\u001b[0;34m\u001b[0m\u001b[0;34m\u001b[0m\u001b[0m\n\u001b[1;32m     40\u001b[0m     \"\"\"\n\u001b[0;32m---> 41\u001b[0;31m     \u001b[0;32mreturn\u001b[0m \u001b[0misinstance\u001b[0m\u001b[0;34m(\u001b[0m\u001b[0mx\u001b[0m\u001b[0;34m,\u001b[0m \u001b[0mSparseABC\u001b[0m\u001b[0;34m)\u001b[0m\u001b[0;34m\u001b[0m\u001b[0;34m\u001b[0m\u001b[0m\n\u001b[0m",
            "\u001b[0;32m/usr/lib/python3.12/abc.py\u001b[0m in \u001b[0;36m__instancecheck__\u001b[0;34m(cls, instance)\u001b[0m\n",
            "\u001b[0;31mKeyboardInterrupt\u001b[0m: "
          ]
        }
      ],
      "source": [
        "# Polars DataFrame for storing results from all possible subsets\n",
        "resultsSchema = {\"trialNumber\": pl.Int64, \"features\": pl.String, 'aic': pl.Float64}\n",
        "resultsDataFrame = pl.DataFrame(schema = resultsSchema)\n",
        "\n",
        "def getAIC(X_data, y_data):\n",
        "    model = LogisticRegression()\n",
        "    model.fit(X_data, y_data)\n",
        "    # Calculate log-likelihood\n",
        "    loglik = -log_loss(y_data, model.predict_proba(X_data)) * len(y_data)\n",
        "    # Calculate the number of parameters\n",
        "    k = X_data.shape[1] + 1\n",
        "    # Calculate AIC... smaller is better\n",
        "    aic = 2 * k -2 * loglik\n",
        "    # print(f\"AIC: {aic}\") # print for initial testing\n",
        "    return aic\n",
        "\n",
        "from itertools import chain, combinations\n",
        "\n",
        "def powerset(iterable):\n",
        "    s = list(iterable)\n",
        "    return chain.from_iterable(combinations(s, r) for r in range(1, len(s)))\n",
        "\n",
        "trialNumber = 0 # initialize count\n",
        "# Use X_scaled for feature selection\n",
        "for c in powerset(range(X_scaled.shape[1])):\n",
        "    trialNumber = trialNumber + 1\n",
        "    # print(c)\n",
        "    thisAIC = getAIC(X_scaled[:,c], y)\n",
        "    thisTrialDataFrame = pl.DataFrame({\"trialNumber\": trialNumber,\n",
        "                                       \"features\": ' '.join(map(str, c)),\n",
        "                                       \"aic\": thisAIC},\n",
        "                                        schema=resultsSchema)\n",
        "    resultsDataFrame = pl.concat([resultsDataFrame,thisTrialDataFrame])\n",
        "\n",
        "# one more set of features... all features\n",
        "trialNumber = trialNumber + 1\n",
        "thisAIC = getAIC(X_scaled, y)\n",
        "thisTrialDataFrame = pl.DataFrame({\"trialNumber\": trialNumber,\n",
        "                                   \"features\": \" \".join(map(str, range(X_scaled.shape[1]))), # Update feature string for all features\n",
        "                                   \"aic\": thisAIC},\n",
        "                                    schema=resultsSchema, strict=False)\n",
        "resultsDataFrame = pl.concat([resultsDataFrame,thisTrialDataFrame])"
      ]
    },
    {
      "cell_type": "code",
      "execution_count": null,
      "metadata": {
        "id": "aPpWKfnBWwTz"
      },
      "outputs": [],
      "source": [
        "print(resultsDataFrame.sort('aic').head(10))"
      ]
    },
    {
      "cell_type": "markdown",
      "metadata": {
        "id": "BN_ilqfdWwTz"
      },
      "source": [
        "### Selected Feature Subset\n",
        "Reviewing the ten lowest *AIC* models, we selected five features for subsequent model development:\n",
        "- **CloseLag3** Lag-three daily closing price\n",
        "- **HMLLag1** Lag-one high minus low daily prices\n",
        "- **OMCLag2** Lag-two open minus closing daily prices\n",
        "- **OMCLag3** Lag-three open minus closing daily prices\n",
        "- **CloseEMA8** Exponential moving average across eight days"
      ]
    },
    {
      "cell_type": "code",
      "execution_count": 89,
      "metadata": {
        "colab": {
          "base_uri": "https://localhost:8080/"
        },
        "id": "qgLTa4tDWwT0",
        "outputId": "edfdea06-1aad-46e4-c902-ab200173d53e"
      },
      "outputs": [
        {
          "output_type": "stream",
          "name": "stdout",
          "text": [
            "Selected Features: ['CloseLag3', 'HMLLag3', 'OMCLag3', 'VolumeLag3', 'CloseEMA8', 'RSI_CloseLag2']\n"
          ]
        }
      ],
      "source": [
        "# Based on the AIC results (assuming the sorted output from cell aPpWKfnBWwTz),\n",
        "# select the indices of the features for the subset.\n",
        "# For example, if the best AIC had feature indices 2, 5, 8, 11, 14\n",
        "selected_feature_indices = [2, 5, 8, 11, 14, 16] # Replace with the actual indices from your AIC results\n",
        "\n",
        "# Select the subset of standardized features using the selected indices\n",
        "X_subset_scaled = X_scaled[:, selected_feature_indices]\n",
        "\n",
        "# Optional: print the names of the selected features\n",
        "selected_feature_names = [featureNames[i] for i in selected_feature_indices]\n",
        "print(\"Selected Features:\", selected_feature_names)\n",
        "\n",
        "# You can also create a Polars DataFrame from the subset for easier viewing of values\n",
        "# X_subset_polars = pl.DataFrame(X_subset_scaled, schema=selected_feature_names)\n",
        "# print(X_subset_polars.head())\n",
        "\n",
        "# Use X_subset_scaled for subsequent model training and evaluation\n",
        "X = X_subset_scaled"
      ]
    },
    {
      "cell_type": "code",
      "execution_count": 90,
      "metadata": {
        "colab": {
          "base_uri": "https://localhost:8080/"
        },
        "id": "2xMZAT2tWwT0",
        "outputId": "f96f4a2d-553b-48a3-9bf1-b6092e7d72e9"
      },
      "outputs": [
        {
          "output_type": "stream",
          "name": "stdout",
          "text": [
            "Shape of the selected and standardized features: (4030, 6)\n"
          ]
        }
      ],
      "source": [
        "# X already contains the selected subset of standardized features as a numpy array\n",
        "# The following line is not needed as feature selection was done in the previous cell\n",
        "# X = X.select('CloseLag3','HMLLag1','OMCLag2','OMCLag3','CloseEMA8', 'VolumeLag1', 'RSI_CloseLag1','RSI_CloseLag2')\n",
        "\n",
        "# Verify the shape and content (optional)\n",
        "print(\"Shape of the selected and standardized features:\", X.shape)\n",
        "# print(\"First 5 rows of the selected and standardized features:\")\n",
        "# print(X[:5])"
      ]
    },
    {
      "cell_type": "markdown",
      "metadata": {
        "id": "2m8ZprLJWwT0"
      },
      "source": [
        "### Define Cross-Validation Training and Test Sets\n",
        "Recognizing that time series observations are not independent observations, we use Scikit-Learn [TimeSeriesSplit](https://scikit-learn.org/stable/modules/generated/sklearn.model_selection.TimeSeriesSplit.html) for cross-validation.\n",
        "\n",
        "This cross-validation object is a variation of multi-fold cross-validation for independent observations. In the kth split, it returns first k folds as train set and the (k+1)th fold as test set.\n",
        "\n",
        "Unlike cross-validation for independent observations, however, successive training sets are supersets of those that come before them. A listing of observation index numbers shows what this means for the time series market data in this demonstration.\n"
      ]
    },
    {
      "cell_type": "code",
      "execution_count": 91,
      "metadata": {
        "colab": {
          "base_uri": "https://localhost:8080/"
        },
        "id": "SOj_QV3KWwT0",
        "outputId": "3e4cfedf-2829-4ecc-9cf8-909645595cf5"
      },
      "outputs": [
        {
          "output_type": "stream",
          "name": "stdout",
          "text": [
            "type(all_splits): <class 'list'>  outer list length 5\n",
            "\n",
            "train_0 has 665 with indices from  0 to 664\n",
            "test_0 has 671 with indices from  675 to 1345\n",
            "\n",
            "train_1 has 1336 with indices from  0 to 1335\n",
            "test_1 has 671 with indices from  1346 to 2016\n",
            "\n",
            "train_2 has 2007 with indices from  0 to 2006\n",
            "test_2 has 671 with indices from  2017 to 2687\n",
            "\n",
            "train_3 has 2678 with indices from  0 to 2677\n",
            "test_3 has 671 with indices from  2688 to 3358\n",
            "\n",
            "train_4 has 3349 with indices from  0 to 3348\n",
            "test_4 has 671 with indices from  3359 to 4029\n"
          ]
        }
      ],
      "source": [
        "# Splitting the datasets into train and test sets\n",
        "# gap is the number of samples to exclude from\n",
        "# the end of each train set and before the next test set.\n",
        "tscv = TimeSeriesSplit(gap=10, n_splits=5)\n",
        "\n",
        "# Use the standardized and potentially subsetted features X for splitting\n",
        "all_splits = list(tscv.split(X, y))\n",
        "train_0, test_0 = all_splits[0]\n",
        "train_1, test_1 = all_splits[1]\n",
        "train_2, test_2 = all_splits[2]\n",
        "train_3, test_3 = all_splits[3]\n",
        "train_4, test_4 = all_splits[4]\n",
        "\n",
        "# examine the objects created for cross-validation splits\n",
        "print(\"type(all_splits):\", type(all_splits), \" outer list length\", len(all_splits))\n",
        "print()\n",
        "print(\"train_0 has\",len(train_0),\"with indices from \",min(train_0),\"to\",max(train_0))\n",
        "print(\"test_0 has\",len(test_0),\"with indices from \",min(test_0),\"to\",max(test_0))\n",
        "print()\n",
        "print(\"train_1 has\",len(train_1),\"with indices from \",min(train_1),\"to\",max(train_1))\n",
        "print(\"test_1 has\",len(test_1),\"with indices from \",min(test_1),\"to\",max(test_1))\n",
        "print()\n",
        "print(\"train_2 has\",len(train_2),\"with indices from \",min(train_2),\"to\",max(train_2))\n",
        "print(\"test_2 has\",len(test_2),\"with indices from \",min(test_2),\"to\",max(test_2))\n",
        "print()\n",
        "print(\"train_3 has\",len(train_3),\"with indices from \",min(train_3),\"to\",max(train_3))\n",
        "print(\"test_3 has\",len(test_3),\"with indices from \",min(test_3),\"to\",max(test_3))\n",
        "print()\n",
        "print(\"train_4 has\",len(train_4),\"with indices from \",min(train_4),\"to\",max(train_4))\n",
        "print(\"test_4 has\",len(test_4),\"with indices from \",min(test_4),\"to\",max(test_4))\n",
        "\n",
        "# to see all indices we can uncomment these statements\n",
        "# print(\"elements of all_splits list of lists,\\n shows index numbers for each the five lists\")\n",
        "# print(all_splits)"
      ]
    },
    {
      "cell_type": "markdown",
      "metadata": {
        "id": "WaJwMBD8WwT1"
      },
      "source": [
        "### Define an Initial Classification Model to Be Evaluated¶\n",
        "We again select gradient boosting from the XGBoost package, this time defining a classification model to be evaluated. Hyperparameters are retained at defauld settings, except for n_estimators."
      ]
    },
    {
      "cell_type": "code",
      "execution_count": 92,
      "metadata": {
        "id": "jjHSfepyWwT1"
      },
      "outputs": [],
      "source": [
        "# Use the standardized features for model initialization\n",
        "model = XGBClassifier(objective='binary:logistic', n_estimators=1000, random_state=2025)"
      ]
    },
    {
      "cell_type": "markdown",
      "metadata": {
        "id": "HR_7vyPvWwT1"
      },
      "source": [
        "### Evaluate a Classification Model Within the Time Series Cross-Validation Design\n",
        "Prior to executing a full-blown search for the \"best\" classification model, we test the cross-validation design on a binary classification model, revising code provided in online documentation for Scikit-Learn: [Time-related feature engineerng](https://scikit-learn.org/stable/auto_examples/applications/plot_cyclical_feature_engineering.html#sphx-glr-auto-examples-applications-plot-cyclical-feature-engineering-py). In particular, we define appropriate metrics for assessing classification performance."
      ]
    },
    {
      "cell_type": "code",
      "execution_count": 93,
      "metadata": {
        "colab": {
          "base_uri": "https://localhost:8080/"
        },
        "id": "BdTllPoAWwT1",
        "outputId": "15380157-9e42-4da9-f0bd-278b77ffcf96"
      },
      "outputs": [
        {
          "output_type": "stream",
          "name": "stdout",
          "text": [
            "Mean model.n_estimators = 1000.0\n"
          ]
        },
        {
          "output_type": "execute_result",
          "data": {
            "text/plain": [
              "(np.float64(0.5081967213114755), np.float64(0.012750670423968678))"
            ]
          },
          "metadata": {},
          "execution_count": 93
        }
      ],
      "source": [
        "def evaluate(model, X_data, y_data, cv, model_prop=None, model_step=None):\n",
        "    cv_results = cross_validate(\n",
        "        model,\n",
        "        X_data, # Use standardized features\n",
        "        y_data,\n",
        "        cv=cv,\n",
        "        scoring=[\"accuracy\"],\n",
        "        return_estimator=model_prop is not None,\n",
        "    )\n",
        "    if model_prop is not None:\n",
        "        if model_step is not None:\n",
        "            values = [\n",
        "                getattr(m[model_step], model_prop) for m in cv_results[\"estimator\"]\n",
        "            ]\n",
        "        else:\n",
        "            values = [getattr(m, model_prop) for m in cv_results[\"estimator\"]]\n",
        "        print(f\"Mean model.{model_prop} = {np.mean(values)}\")\n",
        "    accuracy = -cv_results[\"test_accuracy\"]\n",
        "\n",
        "    # print used in earlier testing\n",
        "    # print(\n",
        "    #    f\"Mean Accuracy:     {-accuracy.mean():.3f} +/- {accuracy.std():.3f}\\n\"\n",
        "    # )\n",
        "    return (-accuracy.mean(), accuracy.std())\n",
        "\n",
        "# Use the standardized features X for evaluation\n",
        "evaluate(model, X, y, cv=tscv, model_prop=\"n_estimators\")"
      ]
    },
    {
      "cell_type": "code",
      "execution_count": 94,
      "metadata": {
        "colab": {
          "base_uri": "https://localhost:8080/"
        },
        "id": "IIYUFX1WWwT1",
        "outputId": "0eb530de-5df8-4ffe-dde8-5f98864baa3f"
      },
      "outputs": [
        {
          "output_type": "stream",
          "name": "stdout",
          "text": [
            "Mean model.n_estimators = 1000.0\n",
            "Mean Accuracy:     0.508 +/- 0.013\n",
            "\n"
          ]
        }
      ],
      "source": [
        "# print results from evaluate\n",
        "# Use the standardized features X for evaluation\n",
        "accuracyMean, accuracyStd = evaluate(model, X, y, cv=tscv, model_prop=\"n_estimators\")\n",
        "print(\n",
        "        f\"Mean Accuracy:     {accuracyMean:.3f} +/- {accuracyStd:.3f}\\n\"\n",
        "     )"
      ]
    },
    {
      "cell_type": "markdown",
      "metadata": {
        "id": "GwK7kGcJWwT2"
      },
      "source": [
        "### Randomized Search for Hyperparameter Settings\n",
        "We search for effective values on five XGBoost hyperparameters: **max_depth**, **min_child_weight**, **subsample**, **learning_rate**, and **n_estimators**."
      ]
    },
    {
      "cell_type": "code",
      "execution_count": 95,
      "metadata": {
        "colab": {
          "base_uri": "https://localhost:8080/"
        },
        "id": "6a2-I_XpWwT2",
        "outputId": "675b155c-ea3c-451d-a220-1f222cc2a4d5"
      },
      "outputs": [
        {
          "output_type": "stream",
          "name": "stdout",
          "text": [
            "Best parameters: {'learning_rate': np.float64(0.09416107493811467), 'max_depth': 8, 'min_child_weight': 6, 'n_estimators': 159, 'subsample': np.float64(0.7848211223544912)}\n",
            "Best score: 0.5248882265275708\n"
          ]
        }
      ],
      "source": [
        "# Randomized search to find the best set of hyperparameters\n",
        "\n",
        "param_dist = {\n",
        "    'max_depth': randint(3, 10),\n",
        "    'min_child_weight': randint(1, 10),\n",
        "    'subsample': uniform(0.5, 1),\n",
        "    'learning_rate': uniform(0.01, 0.1),\n",
        "    'n_estimators': randint(100, 1000),\n",
        "}\n",
        "xgb_model = xgb.XGBClassifier(objective='binary:logistic', use_label_encoder=False, eval_metric='logloss', random_state=2025)\n",
        "\n",
        "random_search = RandomizedSearchCV(\n",
        "    estimator=xgb_model,\n",
        "    param_distributions=param_dist,\n",
        "    n_iter=100, # Number of parameter settings that are sampled.\n",
        "    scoring='accuracy',\n",
        "    cv = TimeSeriesSplit(gap=10, n_splits=5),\n",
        "    random_state=2025,\n",
        "    n_jobs=-1 # Use all available cores\n",
        ")\n",
        "\n",
        "# Use the standardized features X for randomized search\n",
        "random_search.fit(X, y)\n",
        "\n",
        "print(\"Best parameters:\", random_search.best_params_)\n",
        "print(\"Best score:\", random_search.best_score_)"
      ]
    },
    {
      "cell_type": "markdown",
      "metadata": {
        "id": "uHP6YUg_WwT2"
      },
      "source": [
        "### Evaluate the Model\n",
        "We define define an XGBoost subset model with these hyperparameter values and evaluate on the full data set."
      ]
    },
    {
      "cell_type": "code",
      "execution_count": 125,
      "metadata": {
        "colab": {
          "base_uri": "https://localhost:8080/",
          "height": 468
        },
        "id": "iGfxLT41WwT2",
        "outputId": "a73efe02-1a01-4098-cd82-481c91a5c95c"
      },
      "outputs": [
        {
          "output_type": "execute_result",
          "data": {
            "text/plain": [
              "<sklearn.metrics._plot.roc_curve.RocCurveDisplay at 0x7d79f941f020>"
            ]
          },
          "metadata": {},
          "execution_count": 125
        },
        {
          "output_type": "display_data",
          "data": {
            "text/plain": [
              "<Figure size 640x480 with 1 Axes>"
            ],
            "image/png": "[encoded data removed]"
          },
          "metadata": {}
        }
      ],
      "source": [
        "# final model evaluation\n",
        "finalModel = XGBClassifier(objective='binary:logistic', eval_metric='logloss', random_state=2025,\n",
        "                          max_depth = 9, min_child_weight = 9, subsample = 0.70, learning_rate = 0.06, n_estimators = 500)\n",
        "\n",
        "# Train the final model on the full standardized dataset\n",
        "finalModel.fit(X, y)\n",
        "ypred = finalModel.predict(X)\n",
        "RocCurveDisplay.from_predictions(y, ypred)"
      ]
    },
    {
      "cell_type": "code",
      "execution_count": 126,
      "metadata": {
        "colab": {
          "base_uri": "https://localhost:8080/",
          "height": 539
        },
        "id": "-liKdEsTWwT2",
        "outputId": "6de06da6-02ef-4c63-8241-93b9df15a7f9"
      },
      "outputs": [
        {
          "output_type": "stream",
          "name": "stdout",
          "text": [
            "Confusion Matrix\n",
            "[[1683  222]\n",
            " [ 153 1972]]\n"
          ]
        },
        {
          "output_type": "display_data",
          "data": {
            "text/plain": [
              "<Figure size 640x480 with 2 Axes>"
            ],
            "image/png": "[encoded data removed]"
          },
          "metadata": {}
        }
      ],
      "source": [
        "print(\"Confusion Matrix\")\n",
        "# Use the predictions from the model trained on standardized features\n",
        "print(confusion_matrix(y, ypred))\n",
        "disp = ConfusionMatrixDisplay.from_predictions(y, ypred,\n",
        "                              display_labels =[\"Negative Return\",\"Positive Return\"],\n",
        "                                              cmap = plt.cm.Blues)\n",
        "plt.title(\"Confusion Matrix for Returns\")\n",
        "plt.xlabel(\"Predicted Return\")\n",
        "plt.ylabel(\"Actual Return\")\n",
        "plt.tight_layout()\n",
        "plt.show()"
      ]
    },
    {
      "cell_type": "code",
      "execution_count": 127,
      "metadata": {
        "colab": {
          "base_uri": "https://localhost:8080/"
        },
        "id": "Jx29idK9WwT2",
        "outputId": "094e0c96-56fa-4263-8966-a1a8cb851b4f"
      },
      "outputs": [
        {
          "output_type": "stream",
          "name": "stdout",
          "text": [
            "              precision    recall  f1-score   support\n",
            "\n",
            "           0       0.92      0.88      0.90      1905\n",
            "           1       0.90      0.93      0.91      2125\n",
            "\n",
            "   micro avg       0.91      0.91      0.91      4030\n",
            "   macro avg       0.91      0.91      0.91      4030\n",
            "weighted avg       0.91      0.91      0.91      4030\n",
            "\n"
          ]
        }
      ],
      "source": [
        "# Use the predictions from the model trained on standardized features\n",
        "print(classification_report(y, ypred, labels = [\"0\",\"1\"]))"
      ]
    },
    {
      "cell_type": "markdown",
      "source": [
        "**Visualization of Buy / Sell signals**:\n",
        "\n",
        "This visualization helps to visually assess how the generated buy and sell signals align with the historical price movements. You can see where the strategy would have theoretically entered (bought) and exited (sold a portion) positions based on the model's predictions. This can be a useful way to get an initial qualitative understanding of the strategy's behavior before looking at quantitative performance metrics"
      ],
      "metadata": {
        "id": "ShAVaiquGdb-"
      }
    },
    {
      "cell_type": "code",
      "execution_count": 128,
      "metadata": {
        "colab": {
          "base_uri": "https://localhost:8080/",
          "height": 564
        },
        "id": "56098969",
        "outputId": "2aa5c8f2-0d4a-4fac-ec7a-176b8c871776"
      },
      "outputs": [
        {
          "output_type": "display_data",
          "data": {
            "text/plain": [
              "<Figure size 1200x600 with 1 Axes>"
            ],
            "image/png": "[encoded data removed]"
          },
          "metadata": {}
        }
      ],
      "source": [
        "import matplotlib.pyplot as plt\n",
        "import pandas as pd\n",
        "\n",
        "# Ensure btc_pandas is available (convert from Polars if needed)\n",
        "if isinstance(btc, pl.DataFrame):\n",
        "    btc_pandas = btc.to_pandas()\n",
        "elif 'btc_pandas' not in globals():\n",
        "    print(\"btc_pandas DataFrame not found. Please run the data loading and processing cells.\")\n",
        "    # Exit or handle the error appropriately if the DataFrame is not available\n",
        "else:\n",
        "    pass # btc_pandas is already a pandas DataFrame\n",
        "\n",
        "# Identify buy signals (Target changes from 0 to 1)\n",
        "buy_signals = btc_pandas[(btc_pandas['Target'] == 1) & (btc_pandas['Target'].shift(1) == 0)]\n",
        "\n",
        "# Identify sell signals (Target changes from 1 to 0 for three consecutive days)\n",
        "# Check for Target=0 on the current day and Target=1 on the previous three days\n",
        "sell_signals = btc_pandas[(btc_pandas['Target'] == 0) & (btc_pandas['Target'].shift(1) == 1) &\n",
        "                          (btc_pandas['Target'].shift(2) == 1) & (btc_pandas['Target'].shift(3) == 1)]\n",
        "\n",
        "\n",
        "# Create the plot\n",
        "plt.figure(figsize=(12, 6))\n",
        "plt.plot(btc_pandas['Date'], btc_pandas['Close'], label='Close Price', color='blue')\n",
        "\n",
        "# Plot buy signals as green triangles\n",
        "plt.scatter(buy_signals['Date'], buy_signals['Close'], marker='^', color='green', label='Buy Signal', alpha=1)\n",
        "\n",
        "# Plot sell signals as red triangles pointing down\n",
        "plt.scatter(sell_signals['Date'], sell_signals['Close'], marker='v', color='red', label='Sell Signal', alpha=1)\n",
        "\n",
        "\n",
        "# Add title and labels\n",
        "plt.title('Bitcoin Close Price with Buy and Sell Signals')\n",
        "plt.xlabel('Date')\n",
        "plt.ylabel('Close Price')\n",
        "plt.legend()\n",
        "plt.grid(True)\n",
        "\n",
        "# Show the plot\n",
        "plt.show()"
      ]
    },
    {
      "cell_type": "markdown",
      "metadata": {
        "id": "c52790f9"
      },
      "source": [
        "##Simple Buy Strategy :\n",
        "\n",
        "The core of the buy strategy is driven by the Target variable, which is a binary prediction (1 for positive return, 0 for zero or negative return). A buy signal is generated when the Target changes from 0 on the previous day to 1 on the current day. This transition is interpreted as the model predicting an upward movement in the Bitcoin price after a period of non-positive movement.\n",
        "\n",
        "The systematic investment plan aspect comes into play with the amount of capital used for each buy trade. Initially, the code used a fixed buy_amount of $250. However, based on a recent modification, the strategy now calculates the amount to spend on each buy as the maximum of two values:\n",
        "\n",
        "The fixed buy_amount (which is set to 250).\n",
        "5% of the current available capital.\n",
        "This means that if 5% of the current capital is less than 250, the strategy will invest a minimum of 250. If 5% of the current capital is greater than 250, the strategy will invest 5% of the capital, allowing the investment amount to scale with the portfolio size.\n",
        "\n",
        "When a buy signal is triggered and the amount to spend is determined, the strategy calculates how much Bitcoin can be bought with that capital using the previous day's closing price (CloseLag1). If the current available capital is greater than or equal to the calculated capital_to_spend, the trade is executed: the capital is reduced by capital_to_spend, and the corresponding amount of Bitcoin is added to the bitcoin_held.\n",
        "\n",
        "In summary, the simple buy strategy is event-driven, buying only when a specific bullish signal from the predictive model is received, and it incorporates a systematic approach to determining the trade size, investing at least a fixed amount or a percentage of the growing capital, whichever is larger."
      ]
    },
    {
      "cell_type": "code",
      "execution_count": 129,
      "metadata": {
        "colab": {
          "base_uri": "https://localhost:8080/"
        },
        "id": "226ea90a",
        "outputId": "b488653b-be9a-4231-b890-54add7e87cf3"
      },
      "outputs": [
        {
          "output_type": "stream",
          "name": "stdout",
          "text": [
            "Initial Capital: $10000.00\n",
            "Uninvested Capital: $0.00\n",
            "Final Capital based on Strategy: $4108172.17\n",
            "Final Capital with Simple Buy and Hold: $3025950.44\n"
          ]
        }
      ],
      "source": [
        "def backtest_strategy(btc_pandas, initial_capital, buy_amount):\n",
        "    \"\"\"\n",
        "    Backtests a simple trading strategy based on the Target variable.\n",
        "\n",
        "    Args:\n",
        "        btc_pandas (pd.DataFrame): DataFrame containing the historical data\n",
        "                                   with 'Target' and 'CloseLag1' columns.\n",
        "        initial_capital (float): The starting capital for the simulation.\n",
        "        buy_amount (float): The amount of capital to use for each buy trade.\n",
        "\n",
        "    Returns:\n",
        "        tuple: A tuple containing the final capital, remaining capital, and\n",
        "               the amount of bitcoin held.\n",
        "    \"\"\"\n",
        "    capital = initial_capital\n",
        "    bitcoin_held = 0\n",
        "\n",
        "    # Iterate through the data\n",
        "    for i in range(1, len(btc_pandas)):\n",
        "        # Check if the target changed from 0 to 1\n",
        "        if btc_pandas['Target'].iloc[i] == 1 and btc_pandas['Target'].iloc[i-1] == 0:\n",
        "            # Calculate the number of Bitcoin futures to buy\n",
        "            # Use the closing price of the previous day for a more realistic simulation\n",
        "            buy_price = btc_pandas['CloseLag1'].iloc[i]\n",
        "            if buy_price > 0: # Avoid division by zero\n",
        "                amount_to_buy = buy_amount / buy_price\n",
        "                # Execute the trade if enough capital is available\n",
        "                if capital >= buy_amount:\n",
        "                    capital -= buy_amount\n",
        "                    bitcoin_held += amount_to_buy\n",
        "                    # print(f\"Bought {amount_to_buy:.6f} BTC at {buy_price:.2f} on {btc_pandas['Date'].iloc[i].date()}\") # Optional: uncomment for detailed logs\n",
        "                # else:\n",
        "                    # print(f\"Not enough capital to buy on {btc_pandas['Date'].iloc[i].date()}\") # Optional: uncomment for detailed logs\n",
        "\n",
        "    # Calculate the final capital\n",
        "    # Use the last closing price to value the held Bitcoin futures\n",
        "    last_price = btc_pandas['Close'].iloc[-1]\n",
        "    final_capital = capital + (bitcoin_held * last_price)\n",
        "\n",
        "    return capital, bitcoin_held, final_capital\n",
        "\n",
        "# Call the function with the initial parameters\n",
        "initial_capital = 10000\n",
        "buy_amount = 250\n",
        "remaining_capital, held_bitcoin, final_portfolio_value = backtest_strategy(btc_pandas, initial_capital, buy_amount)\n",
        "\n",
        "print(f\"Initial Capital: ${initial_capital:.2f}\")\n",
        "print(f\"Uninvested Capital: ${remaining_capital:.2f}\")\n",
        "print(f\"Final Capital based on Strategy: ${final_portfolio_value:.2f}\")\n",
        "\n",
        "# Compare with simple buy and hold from the start\n",
        "# Assuming the first available Close price after dropping NaNs is the entry point\n",
        "initial_buy_price_for_comparison = btc_pandas['Close'].iloc[0]\n",
        "simple_buy_hold_amount = initial_capital / initial_buy_price_for_comparison\n",
        "simple_buy_hold_final_capital = simple_buy_hold_amount * btc_pandas['Close'].iloc[-1]\n",
        "\n",
        "print(f\"Final Capital with Simple Buy and Hold: ${simple_buy_hold_final_capital:.2f}\")\n"
      ]
    },
    {
      "cell_type": "markdown",
      "metadata": {
        "id": "3dc836cd"
      },
      "source": [
        "## Momentum-based systematic Buy and Sell strategy\n",
        "\n",
        "This trading strategy operates based on signals from a predictive model. The sell rule is straightforward: if the model predicts a non-positive return for the three consecutive days (Target is 0), the strategy sells 5% of the current Bitcoin holdings. The buy rule is more focused on a shift in momentum: the strategy initiates a buy only when the model predicts a positive return for the next day (Target is 1) and this follows three consecutive days where the model predicted non-positive returns (Target was 0 for the three preceding days). When this specific buy signal occurs, the strategy allocates 10% of the current available capital to purchase Bitcoin. This approach aims to capture upward movements after a period of bearish or sideways price action while trimming holdings during predicted downturns."
      ]
    },
    {
      "cell_type": "code",
      "execution_count": 130,
      "metadata": {
        "colab": {
          "base_uri": "https://localhost:8080/"
        },
        "id": "9b9eee1b",
        "outputId": "5d7fa857-5942-4845-c9d7-05db2dc1a1f0"
      },
      "outputs": [
        {
          "output_type": "stream",
          "name": "stdout",
          "text": [
            "Initial Capital: $10000.00\n",
            "Uninvested Capital: $618650.93\n",
            "Final Capital based on Strategy: $1732348.87\n",
            "Final Capital with Simple Buy and Hold: $3025950.44\n"
          ]
        }
      ],
      "source": [
        "def backtest_strategy(btc_pandas, initial_capital):\n",
        "    \"\"\"\n",
        "    Backtests a momentum-based trading strategy with specific buy and sell rules.\n",
        "\n",
        "    Args:\n",
        "        btc_pandas (pd.DataFrame): DataFrame containing the historical data\n",
        "                                   with 'Target' and 'CloseLag1' columns.\n",
        "        initial_capital (float): The starting capital for the simulation.\n",
        "\n",
        "    Returns:\n",
        "        tuple: A tuple containing the final capital, remaining capital, and\n",
        "               the amount of bitcoin held.\n",
        "    \"\"\"\n",
        "    capital = initial_capital\n",
        "    bitcoin_held = 0\n",
        "\n",
        "    # Iterate through the data, starting from the 3rd day to check for 3 consecutive previous days\n",
        "    for i in range(3, len(btc_pandas)):\n",
        "        # Sell Condition: Sell 5% if target is 0 for the current day\n",
        "        if btc_pandas['Target'].iloc[i] == 0 and \\\n",
        "           btc_pandas['Target'].iloc[i-1] == 0 and \\\n",
        "           btc_pandas['Target'].iloc[i-2] == 0 and \\\n",
        "            bitcoin_held > 0:\n",
        "\n",
        "            percentage_to_sell = 0.05\n",
        "            amount_to_sell = bitcoin_held * percentage_to_sell\n",
        "\n",
        "            # Use the closing price of the previous day for a more realistic simulation\n",
        "            sell_price = btc_pandas['CloseLag1'].iloc[i]\n",
        "            if sell_price > 0 and amount_to_sell > 0: # Avoid division by zero and selling zero\n",
        "                capital += amount_to_sell * sell_price\n",
        "                bitcoin_held -= amount_to_sell\n",
        "                # print(f\"Sold {amount_to_sell:.6f} BTC at {sell_price:.2f} on {btc_pandas['Date'].iloc[i].date()}\") # Optional: uncomment for detailed logs\n",
        "\n",
        "        # Buy Condition: Buy 10% if the momentum changes to buy after 3 consecutive days of sell (Target was 0)\n",
        "        elif btc_pandas['Target'].iloc[i] == 1 and \\\n",
        "             btc_pandas['Target'].iloc[i-1] == 0 and \\\n",
        "             btc_pandas['Target'].iloc[i-2] == 0 and \\\n",
        "             btc_pandas['Target'].iloc[i-3] == 0:\n",
        "\n",
        "            percentage_to_buy = 0.10\n",
        "            capital_to_spend = capital * percentage_to_buy\n",
        "\n",
        "            # Use the closing price of the previous day for a more realistic simulation\n",
        "            buy_price = btc_pandas['CloseLag1'].iloc[i]\n",
        "            if buy_price > 0 and capital_to_spend > 0: # Avoid division by zero and spending zero\n",
        "                 amount_to_buy = capital_to_spend / buy_price\n",
        "                 # Execute the trade if enough capital is available\n",
        "                 if capital >= capital_to_spend:\n",
        "                    capital -= capital_to_spend\n",
        "                    bitcoin_held += amount_to_buy\n",
        "                    # print(f\"Bought {amount_to_buy:.6f} BTC at {buy_price:.2f} on {btc_pandas['Date'].iloc[i].date()}\") # Optional: uncomment for detailed logs\n",
        "                 # else:\n",
        "                    # print(f\"Not enough capital to buy on {btc_pandas['Date'].iloc[i].date()}\") # Optional: uncomment for detailed logs\n",
        "\n",
        "\n",
        "    # Calculate the final capital\n",
        "    # Use the last closing price to value the held Bitcoin futures\n",
        "    last_price = btc_pandas['Close'].iloc[-1]\n",
        "    final_capital = capital + (bitcoin_held * last_price)\n",
        "\n",
        "    return capital, bitcoin_held, final_capital\n",
        "\n",
        "# Call the function with the initial parameters\n",
        "initial_capital = 10000\n",
        "remaining_capital, held_bitcoin, final_portfolio_value = backtest_strategy(btc_pandas, initial_capital)\n",
        "\n",
        "print(f\"Initial Capital: ${initial_capital:.2f}\")\n",
        "print(f\"Uninvested Capital: ${remaining_capital:.2f}\")\n",
        "print(f\"Final Capital based on Strategy: ${final_portfolio_value:.2f}\")\n",
        "\n",
        "# Compare with simple buy and hold from the start\n",
        "# Assuming the first available Close price after dropping NaNs is the entry point\n",
        "initial_buy_price_for_comparison = btc_pandas['Close'].iloc[0]\n",
        "simple_buy_hold_amount = initial_capital / initial_buy_price_for_comparison\n",
        "simple_buy_hold_final_capital = simple_buy_hold_amount * btc_pandas['Close'].iloc[-1]\n",
        "\n",
        "print(f\"Final Capital with Simple Buy and Hold: ${simple_buy_hold_final_capital:.2f}\")"
      ]
    },
    {
      "cell_type": "markdown",
      "metadata": {
        "id": "b2d2727a"
      },
      "source": [
        "## Summary:\n",
        "\n",
        "### Data Analysis Key Findings\n",
        "\n",
        "* The AUC score improved from 0.86 to 0.87-0.89 after including RSI and Volume features. Further increase the estimators to 500 greatly improved the score to 0.91. There may a risk of overfitting the XGClassifier model to data\n",
        "* The naive Buy and Hold strategy without using any prediction would work great (in hindsight) for Bitcoin since it has seen unprecedented upside since it launch. An initial investement of \\$10000 in 2014 would yeild \\$3025950.44 in 2025.\n",
        "* An simple but slightly enhanced version of the Buy and Hold, where you buy a fixed amount of bitcoin, \\$250, each time on a generated buy signal would have yeild \\$4108172.17 in today's amount. Both these strategies are idealistic, but not unrealistic in the past 11 years of tremendous growth in Bitcoin value.\n",
        "* A simple buy and hold strategy over the same period yielded a significantly higher final capital of \\$862,469.05.\n",
        "* A more practical yet simple momentum-based strategy, where you would sell 10% of the holding after 3 consecutive days of dip in Bitcoin price, and buy 10% back when the momentum shifts to a buy (Trading Signal 1), would yeild \\$1732348.87. This is a more realistic and practical approach to investing.\n",
        "\n",
        "### Insights or Next Steps\n",
        "\n",
        "* Buy and hold would work the best of Bitcoin over past 11 years. However, that strategy may not have been realistic due to huge market speculations and fluctuations in Bitcoin price.\n",
        "* The trading strategies are profitable because Bitcoin prices have a huge upward graph. It may be worth building a mean reversal based strategy and see its performance against momentum-based strategies."
      ]
    },
    {
      "cell_type": "markdown",
      "metadata": {
        "id": "EgNXmSjMWwT2"
      },
      "source": [
        "## References\n",
        "\n",
        "* [yfinance GitHub](https://github.com/ranaroussi/yfinance)\n",
        "* [yfinance Documentation](https://ranaroussi.github.io/yfinance/)\n",
        "* [Polars Online User Guide](https://docs.pola.rs/)\n",
        "* [Build Polars Database](https://www.pyquantnews.com/free-python-resources/build-stock-database-locally-with-polars)\n",
        "* [YouTube. Polars and Time Series: What It Can Do, and How to Overcome Any Limitation](https://www.youtube.com/watch?v=qz-zAHBz6Ks)\n",
        "* [Awesome Quant: Python for Quantiative Finance](https://wilsonfreitas.github.io/awesome-quant/)\n",
        "* [Cross-validation](https://scikit-learn.org/stable/modules/cross_validation.html)\n",
        "* [TimeSeriesSplit](https://scikit-learn.org/stable/modules/generated/sklearn.model_selection.TimeSeriesSplit.html)\n",
        "* [RandomizedSearchCV](https://scikit-learn.org/stable/modules/generated/sklearn.model_selection.RandomizedSearchCV.html)\n",
        "* [Hyperparameter Tuning](https://scikit-learn.org/stable/modules/grid_search.html#grid-search)\n",
        "* [Metrics and Scoring](https://scikit-learn.org/stable/modules/model_evaluation.html#scoring-parameter)\n",
        "* [Introduction to Boosted Trees](https://xgboost.readthedocs.io/en/latest/tutorials/model.html)\n",
        "* [XGBoost documentation](https://xgboost.readthedocs.io/en/latest/index.html)\n",
        "* [XGBoost in Python documentation](https://xgboost-clone.readthedocs.io/en/latest/python/python_intro.html)\n",
        "* [Auto-Sklearn for AutoML in an Scikit-Learn Environment](https://www.automl.org/automl-for-x/tabular-data/auto-sklearn/)."
      ]
    }
  ],
  "metadata": {
    "colab": {
      "provenance": [],
      "include_colab_link": true
    },
    "kernelspec": {
      "display_name": ".venv",
      "language": "python",
      "name": "python3"
    },
    "language_info": {
      "codemirror_mode": {
        "name": "ipython",
        "version": 3
      },
      "file_extension": ".py",
      "mimetype": "text/x-python",
      "name": "python",
      "nbconvert_exporter": "python",
      "pygments_lexer": "ipython3",
      "version": "3.12.0"
    },
    "nbTranslate": {
      "displayLangs": [
        "*"
      ],
      "hotkey": "alt-t",
      "langInMainMenu": true,
      "sourceLang": "en",
      "targetLang": "fr",
      "useGoogleTranslate": true
    },
    "toc": {
      "base_numbering": 1,
      "nav_menu": {},
      "number_sections": true,
      "sideBar": true,
      "skip_h1_title": true,
      "title_cell": "Table of Contents",
      "title_sidebar": "Contents",
      "toc_cell": false,
      "toc_position": {
        "height": "calc(100% - 180px)",
        "left": "10px",
        "top": "150px",
        "width": "341.331543px"
      },
      "toc_section_display": true,
      "toc_window_display": false
    },
    "toc-autonumbering": false,
    "toc-showtags": false,
    "varInspector": {
      "cols": {
        "lenName": 16,
        "lenType": 16,
        "lenVar": 40
      },
      "kernels_config": {
        "python": {
          "delete_cmd_postfix": "",
          "delete_cmd_prefix": "del ",
          "library": "var_list.py",
          "varRefreshCmd": "print(var_dic_list())"
        },
        "r": {
          "delete_cmd_postfix": ") ",
          "delete_cmd_prefix": "rm(",
          "library": "var_list.r",
          "varRefreshCmd": "cat(var_dic_list()) "
        }
      },
      "types_to_exclude": [
        "module",
        "function",
        "builtin_function_or_method",
        "instance",
        "_Feature"
      ],
      "window_display": false
    }
  },
  "nbformat": 4,
  "nbformat_minor": 0
}